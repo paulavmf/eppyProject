{
 "cells": [
  {
   "cell_type": "code",
   "execution_count": 3,
   "metadata": {
    "executionInfo": {
     "elapsed": 3455,
     "status": "ok",
     "timestamp": 1608053989750,
     "user": {
      "displayName": "Paula Moreno",
      "photoUrl": "",
      "userId": "09351869284569439369"
     },
     "user_tz": 0
    },
    "id": "ENN6Q_jY6fEb"
   },
   "outputs": [],
   "source": [
    "import pandas as pd\n",
    "from helpers import *\n",
    "import re \n",
    "import matplotlib"
   ]
  },
  {
   "cell_type": "code",
   "execution_count": 4,
   "metadata": {},
   "outputs": [
    {
     "name": "stdout",
     "output_type": "stream",
     "text": [
      "1ZoneUncontrolled_win_1_out\n",
      "1ZoneUncontrolled_win_1_outoutput.xlsx\n",
      "output.xlsx\n",
      "schedule\n",
      "simple\n"
     ]
    }
   ],
   "source": [
    "%%bash\n",
    "cd output\n",
    "ls"
   ]
  },
  {
   "cell_type": "code",
   "execution_count": 17,
   "metadata": {
    "executionInfo": {
     "elapsed": 6361,
     "status": "ok",
     "timestamp": 1608053992682,
     "user": {
      "displayName": "Paula Moreno",
      "photoUrl": "",
      "userId": "09351869284569439369"
     },
     "user_tz": 0
    },
    "id": "-Cw9XYK_6g5v"
   },
   "outputs": [],
   "source": [
    "# data = pd.read_excel('/content/drive/MyDrive/Colab Notebooks/Phd/eppyProject/output.xlsx')\n",
    "df = pd.read_excel('/home/paula/Documentos/Doctorado/Desarrollo/eppyProject/output/1ZoneUncontrolled_win_1_out/output.xlsx')\n",
    "# df = pd.read_csv('/home/paula/Documentos/Doctorado/Desarrollo/eppyProject/output/1ZoneUncontrolled_win_1_out/eplusout.csv')"
   ]
  },
  {
   "cell_type": "code",
   "execution_count": 18,
   "metadata": {
    "colab": {
     "base_uri": "https://localhost:8080/",
     "height": 614
    },
    "executionInfo": {
     "elapsed": 6360,
     "status": "ok",
     "timestamp": 1608053992731,
     "user": {
      "displayName": "Paula Moreno",
      "photoUrl": "",
      "userId": "09351869284569439369"
     },
     "user_tz": 0
    },
    "id": "tUR67DG66xEX",
    "outputId": "56445e62-c8b5-4b9b-e5bc-b17e948d1223",
    "scrolled": false
   },
   "outputs": [
    {
     "name": "stdout",
     "output_type": "stream",
     "text": [
      "<class 'pandas.core.frame.DataFrame'>\n",
      "RangeIndex: 192 entries, 0 to 191\n",
      "Data columns (total 6 columns):\n",
      " #   Column                                                                        Non-Null Count  Dtype  \n",
      "---  ------                                                                        --------------  -----  \n",
      " 0   Date/Time                                                                     192 non-null    object \n",
      " 1   ZONE ONE:Zone Windows Total Transmitted Solar Radiation Rate [W](TimeStep):0  192 non-null    float64\n",
      " 2   ZONE ONE:Zone Windows Total Transmitted Solar Radiation Rate [W](TimeStep):1  192 non-null    float64\n",
      " 3   ZONE ONE:Zone Windows Total Transmitted Solar Radiation Rate [W](TimeStep):2  192 non-null    float64\n",
      " 4   ZONE ONE:Zone Windows Total Transmitted Solar Radiation Rate [W](TimeStep):3  192 non-null    float64\n",
      " 5   ZONE ONE:Zone Windows Total Transmitted Solar Radiation Rate [W](TimeStep):4  192 non-null    float64\n",
      "dtypes: float64(5), object(1)\n",
      "memory usage: 9.1+ KB\n"
     ]
    }
   ],
   "source": [
    "df.info()"
   ]
  },
  {
   "cell_type": "code",
   "execution_count": 19,
   "metadata": {},
   "outputs": [
    {
     "data": {
      "text/plain": [
       "0"
      ]
     },
     "execution_count": 19,
     "metadata": {},
     "output_type": "execute_result"
    }
   ],
   "source": [
    "sum(df['Date/Time'].duplicated())"
   ]
  },
  {
   "cell_type": "code",
   "execution_count": 20,
   "metadata": {},
   "outputs": [
    {
     "data": {
      "text/plain": [
       "96"
      ]
     },
     "execution_count": 20,
     "metadata": {},
     "output_type": "execute_result"
    }
   ],
   "source": [
    "len(df[df['Date/Time'].str.contains(\"07/21\")])"
   ]
  },
  {
   "cell_type": "code",
   "execution_count": 21,
   "metadata": {},
   "outputs": [
    {
     "data": {
      "text/plain": [
       "0"
      ]
     },
     "execution_count": 21,
     "metadata": {},
     "output_type": "execute_result"
    }
   ],
   "source": [
    "len(df[df['Date/Time'].str.contains(\"01/01\")])"
   ]
  },
  {
   "cell_type": "code",
   "execution_count": 22,
   "metadata": {
    "executionInfo": {
     "elapsed": 6352,
     "status": "ok",
     "timestamp": 1608053992735,
     "user": {
      "displayName": "Paula Moreno",
      "photoUrl": "",
      "userId": "09351869284569439369"
     },
     "user_tz": 0
    },
    "id": "VBLNh7S35VVg"
   },
   "outputs": [],
   "source": [
    "# parse Date/TIme\n",
    "\n",
    "new =  df['Date/Time'].str.split('  ', n=1, expand = True)\n",
    "new[0] = new[0].str.replace('/','-')+'-00'\n",
    "new[1] = new[1].str.replace('24','00') # TODO esto  tengo que hacerlo por regex si mis simulaciones son más cortas que una hora (osea, si por lo que sea tengo 24 minutos)\n"
   ]
  },
  {
   "cell_type": "code",
   "execution_count": 23,
   "metadata": {},
   "outputs": [
    {
     "data": {
      "text/html": [
       "<div>\n",
       "<style scoped>\n",
       "    .dataframe tbody tr th:only-of-type {\n",
       "        vertical-align: middle;\n",
       "    }\n",
       "\n",
       "    .dataframe tbody tr th {\n",
       "        vertical-align: top;\n",
       "    }\n",
       "\n",
       "    .dataframe thead th {\n",
       "        text-align: right;\n",
       "    }\n",
       "</style>\n",
       "<table border=\"1\" class=\"dataframe\">\n",
       "  <thead>\n",
       "    <tr style=\"text-align: right;\">\n",
       "      <th></th>\n",
       "      <th>0</th>\n",
       "      <th>1</th>\n",
       "    </tr>\n",
       "  </thead>\n",
       "  <tbody>\n",
       "    <tr>\n",
       "      <th>0</th>\n",
       "      <td>12-21-00</td>\n",
       "      <td>00:15:00</td>\n",
       "    </tr>\n",
       "    <tr>\n",
       "      <th>1</th>\n",
       "      <td>12-21-00</td>\n",
       "      <td>00:30:00</td>\n",
       "    </tr>\n",
       "    <tr>\n",
       "      <th>2</th>\n",
       "      <td>12-21-00</td>\n",
       "      <td>00:45:00</td>\n",
       "    </tr>\n",
       "    <tr>\n",
       "      <th>3</th>\n",
       "      <td>12-21-00</td>\n",
       "      <td>01:00:00</td>\n",
       "    </tr>\n",
       "    <tr>\n",
       "      <th>4</th>\n",
       "      <td>12-21-00</td>\n",
       "      <td>01:15:00</td>\n",
       "    </tr>\n",
       "    <tr>\n",
       "      <th>...</th>\n",
       "      <td>...</td>\n",
       "      <td>...</td>\n",
       "    </tr>\n",
       "    <tr>\n",
       "      <th>187</th>\n",
       "      <td>07-21-00</td>\n",
       "      <td>23:00:00</td>\n",
       "    </tr>\n",
       "    <tr>\n",
       "      <th>188</th>\n",
       "      <td>07-21-00</td>\n",
       "      <td>23:15:00</td>\n",
       "    </tr>\n",
       "    <tr>\n",
       "      <th>189</th>\n",
       "      <td>07-21-00</td>\n",
       "      <td>23:30:00</td>\n",
       "    </tr>\n",
       "    <tr>\n",
       "      <th>190</th>\n",
       "      <td>07-21-00</td>\n",
       "      <td>23:45:00</td>\n",
       "    </tr>\n",
       "    <tr>\n",
       "      <th>191</th>\n",
       "      <td>07-21-00</td>\n",
       "      <td>00:00:00</td>\n",
       "    </tr>\n",
       "  </tbody>\n",
       "</table>\n",
       "<p>192 rows × 2 columns</p>\n",
       "</div>"
      ],
      "text/plain": [
       "             0         1\n",
       "0     12-21-00  00:15:00\n",
       "1     12-21-00  00:30:00\n",
       "2     12-21-00  00:45:00\n",
       "3     12-21-00  01:00:00\n",
       "4     12-21-00  01:15:00\n",
       "..         ...       ...\n",
       "187   07-21-00  23:00:00\n",
       "188   07-21-00  23:15:00\n",
       "189   07-21-00  23:30:00\n",
       "190   07-21-00  23:45:00\n",
       "191   07-21-00  00:00:00\n",
       "\n",
       "[192 rows x 2 columns]"
      ]
     },
     "execution_count": 23,
     "metadata": {},
     "output_type": "execute_result"
    }
   ],
   "source": [
    "new"
   ]
  },
  {
   "cell_type": "code",
   "execution_count": 24,
   "metadata": {
    "executionInfo": {
     "elapsed": 6308,
     "status": "ok",
     "timestamp": 1608053992744,
     "user": {
      "displayName": "Paula Moreno",
      "photoUrl": "",
      "userId": "09351869284569439369"
     },
     "user_tz": 0
    },
    "id": "giclHWmw6G5z"
   },
   "outputs": [],
   "source": [
    "df['Date/Time'] = new[0].str.cat(new[1], sep = \" \")\n",
    "df['Date/Time'] = df['Date/Time'].str.strip()"
   ]
  },
  {
   "cell_type": "code",
   "execution_count": 25,
   "metadata": {},
   "outputs": [
    {
     "data": {
      "text/html": [
       "<div>\n",
       "<style scoped>\n",
       "    .dataframe tbody tr th:only-of-type {\n",
       "        vertical-align: middle;\n",
       "    }\n",
       "\n",
       "    .dataframe tbody tr th {\n",
       "        vertical-align: top;\n",
       "    }\n",
       "\n",
       "    .dataframe thead th {\n",
       "        text-align: right;\n",
       "    }\n",
       "</style>\n",
       "<table border=\"1\" class=\"dataframe\">\n",
       "  <thead>\n",
       "    <tr style=\"text-align: right;\">\n",
       "      <th></th>\n",
       "      <th>Date/Time</th>\n",
       "      <th>ZONE ONE:Zone Windows Total Transmitted Solar Radiation Rate [W](TimeStep):0</th>\n",
       "      <th>ZONE ONE:Zone Windows Total Transmitted Solar Radiation Rate [W](TimeStep):1</th>\n",
       "      <th>ZONE ONE:Zone Windows Total Transmitted Solar Radiation Rate [W](TimeStep):2</th>\n",
       "      <th>ZONE ONE:Zone Windows Total Transmitted Solar Radiation Rate [W](TimeStep):3</th>\n",
       "      <th>ZONE ONE:Zone Windows Total Transmitted Solar Radiation Rate [W](TimeStep):4</th>\n",
       "    </tr>\n",
       "  </thead>\n",
       "  <tbody>\n",
       "    <tr>\n",
       "      <th>0</th>\n",
       "      <td>12-21-00 00:15:00</td>\n",
       "      <td>0.0</td>\n",
       "      <td>0.0</td>\n",
       "      <td>0.0</td>\n",
       "      <td>0.0</td>\n",
       "      <td>0.0</td>\n",
       "    </tr>\n",
       "    <tr>\n",
       "      <th>1</th>\n",
       "      <td>12-21-00 00:30:00</td>\n",
       "      <td>0.0</td>\n",
       "      <td>0.0</td>\n",
       "      <td>0.0</td>\n",
       "      <td>0.0</td>\n",
       "      <td>0.0</td>\n",
       "    </tr>\n",
       "    <tr>\n",
       "      <th>2</th>\n",
       "      <td>12-21-00 00:45:00</td>\n",
       "      <td>0.0</td>\n",
       "      <td>0.0</td>\n",
       "      <td>0.0</td>\n",
       "      <td>0.0</td>\n",
       "      <td>0.0</td>\n",
       "    </tr>\n",
       "    <tr>\n",
       "      <th>3</th>\n",
       "      <td>12-21-00 01:00:00</td>\n",
       "      <td>0.0</td>\n",
       "      <td>0.0</td>\n",
       "      <td>0.0</td>\n",
       "      <td>0.0</td>\n",
       "      <td>0.0</td>\n",
       "    </tr>\n",
       "    <tr>\n",
       "      <th>4</th>\n",
       "      <td>12-21-00 01:15:00</td>\n",
       "      <td>0.0</td>\n",
       "      <td>0.0</td>\n",
       "      <td>0.0</td>\n",
       "      <td>0.0</td>\n",
       "      <td>0.0</td>\n",
       "    </tr>\n",
       "    <tr>\n",
       "      <th>...</th>\n",
       "      <td>...</td>\n",
       "      <td>...</td>\n",
       "      <td>...</td>\n",
       "      <td>...</td>\n",
       "      <td>...</td>\n",
       "      <td>...</td>\n",
       "    </tr>\n",
       "    <tr>\n",
       "      <th>187</th>\n",
       "      <td>07-21-00 23:00:00</td>\n",
       "      <td>0.0</td>\n",
       "      <td>0.0</td>\n",
       "      <td>0.0</td>\n",
       "      <td>0.0</td>\n",
       "      <td>0.0</td>\n",
       "    </tr>\n",
       "    <tr>\n",
       "      <th>188</th>\n",
       "      <td>07-21-00 23:15:00</td>\n",
       "      <td>0.0</td>\n",
       "      <td>0.0</td>\n",
       "      <td>0.0</td>\n",
       "      <td>0.0</td>\n",
       "      <td>0.0</td>\n",
       "    </tr>\n",
       "    <tr>\n",
       "      <th>189</th>\n",
       "      <td>07-21-00 23:30:00</td>\n",
       "      <td>0.0</td>\n",
       "      <td>0.0</td>\n",
       "      <td>0.0</td>\n",
       "      <td>0.0</td>\n",
       "      <td>0.0</td>\n",
       "    </tr>\n",
       "    <tr>\n",
       "      <th>190</th>\n",
       "      <td>07-21-00 23:45:00</td>\n",
       "      <td>0.0</td>\n",
       "      <td>0.0</td>\n",
       "      <td>0.0</td>\n",
       "      <td>0.0</td>\n",
       "      <td>0.0</td>\n",
       "    </tr>\n",
       "    <tr>\n",
       "      <th>191</th>\n",
       "      <td>07-21-00 00:00:00</td>\n",
       "      <td>0.0</td>\n",
       "      <td>0.0</td>\n",
       "      <td>0.0</td>\n",
       "      <td>0.0</td>\n",
       "      <td>0.0</td>\n",
       "    </tr>\n",
       "  </tbody>\n",
       "</table>\n",
       "<p>192 rows × 6 columns</p>\n",
       "</div>"
      ],
      "text/plain": [
       "             Date/Time  \\\n",
       "0    12-21-00 00:15:00   \n",
       "1    12-21-00 00:30:00   \n",
       "2    12-21-00 00:45:00   \n",
       "3    12-21-00 01:00:00   \n",
       "4    12-21-00 01:15:00   \n",
       "..                 ...   \n",
       "187  07-21-00 23:00:00   \n",
       "188  07-21-00 23:15:00   \n",
       "189  07-21-00 23:30:00   \n",
       "190  07-21-00 23:45:00   \n",
       "191  07-21-00 00:00:00   \n",
       "\n",
       "     ZONE ONE:Zone Windows Total Transmitted Solar Radiation Rate [W](TimeStep):0  \\\n",
       "0                                                  0.0                              \n",
       "1                                                  0.0                              \n",
       "2                                                  0.0                              \n",
       "3                                                  0.0                              \n",
       "4                                                  0.0                              \n",
       "..                                                 ...                              \n",
       "187                                                0.0                              \n",
       "188                                                0.0                              \n",
       "189                                                0.0                              \n",
       "190                                                0.0                              \n",
       "191                                                0.0                              \n",
       "\n",
       "     ZONE ONE:Zone Windows Total Transmitted Solar Radiation Rate [W](TimeStep):1  \\\n",
       "0                                                  0.0                              \n",
       "1                                                  0.0                              \n",
       "2                                                  0.0                              \n",
       "3                                                  0.0                              \n",
       "4                                                  0.0                              \n",
       "..                                                 ...                              \n",
       "187                                                0.0                              \n",
       "188                                                0.0                              \n",
       "189                                                0.0                              \n",
       "190                                                0.0                              \n",
       "191                                                0.0                              \n",
       "\n",
       "     ZONE ONE:Zone Windows Total Transmitted Solar Radiation Rate [W](TimeStep):2  \\\n",
       "0                                                  0.0                              \n",
       "1                                                  0.0                              \n",
       "2                                                  0.0                              \n",
       "3                                                  0.0                              \n",
       "4                                                  0.0                              \n",
       "..                                                 ...                              \n",
       "187                                                0.0                              \n",
       "188                                                0.0                              \n",
       "189                                                0.0                              \n",
       "190                                                0.0                              \n",
       "191                                                0.0                              \n",
       "\n",
       "     ZONE ONE:Zone Windows Total Transmitted Solar Radiation Rate [W](TimeStep):3  \\\n",
       "0                                                  0.0                              \n",
       "1                                                  0.0                              \n",
       "2                                                  0.0                              \n",
       "3                                                  0.0                              \n",
       "4                                                  0.0                              \n",
       "..                                                 ...                              \n",
       "187                                                0.0                              \n",
       "188                                                0.0                              \n",
       "189                                                0.0                              \n",
       "190                                                0.0                              \n",
       "191                                                0.0                              \n",
       "\n",
       "     ZONE ONE:Zone Windows Total Transmitted Solar Radiation Rate [W](TimeStep):4  \n",
       "0                                                  0.0                             \n",
       "1                                                  0.0                             \n",
       "2                                                  0.0                             \n",
       "3                                                  0.0                             \n",
       "4                                                  0.0                             \n",
       "..                                                 ...                             \n",
       "187                                                0.0                             \n",
       "188                                                0.0                             \n",
       "189                                                0.0                             \n",
       "190                                                0.0                             \n",
       "191                                                0.0                             \n",
       "\n",
       "[192 rows x 6 columns]"
      ]
     },
     "execution_count": 25,
     "metadata": {},
     "output_type": "execute_result"
    }
   ],
   "source": [
    "df"
   ]
  },
  {
   "cell_type": "code",
   "execution_count": 26,
   "metadata": {
    "executionInfo": {
     "elapsed": 6301,
     "status": "ok",
     "timestamp": 1608053992747,
     "user": {
      "displayName": "Paula Moreno",
      "photoUrl": "",
      "userId": "09351869284569439369"
     },
     "user_tz": 0
    },
    "id": "BjIy6QFSAzUh"
   },
   "outputs": [],
   "source": [
    "df = df.set_index('Date/Time')"
   ]
  },
  {
   "cell_type": "code",
   "execution_count": 27,
   "metadata": {},
   "outputs": [
    {
     "data": {
      "text/html": [
       "<div>\n",
       "<style scoped>\n",
       "    .dataframe tbody tr th:only-of-type {\n",
       "        vertical-align: middle;\n",
       "    }\n",
       "\n",
       "    .dataframe tbody tr th {\n",
       "        vertical-align: top;\n",
       "    }\n",
       "\n",
       "    .dataframe thead th {\n",
       "        text-align: right;\n",
       "    }\n",
       "</style>\n",
       "<table border=\"1\" class=\"dataframe\">\n",
       "  <thead>\n",
       "    <tr style=\"text-align: right;\">\n",
       "      <th></th>\n",
       "      <th>ZONE ONE:Zone Windows Total Transmitted Solar Radiation Rate [W](TimeStep):0</th>\n",
       "      <th>ZONE ONE:Zone Windows Total Transmitted Solar Radiation Rate [W](TimeStep):1</th>\n",
       "      <th>ZONE ONE:Zone Windows Total Transmitted Solar Radiation Rate [W](TimeStep):2</th>\n",
       "      <th>ZONE ONE:Zone Windows Total Transmitted Solar Radiation Rate [W](TimeStep):3</th>\n",
       "      <th>ZONE ONE:Zone Windows Total Transmitted Solar Radiation Rate [W](TimeStep):4</th>\n",
       "    </tr>\n",
       "    <tr>\n",
       "      <th>Date/Time</th>\n",
       "      <th></th>\n",
       "      <th></th>\n",
       "      <th></th>\n",
       "      <th></th>\n",
       "      <th></th>\n",
       "    </tr>\n",
       "  </thead>\n",
       "  <tbody>\n",
       "    <tr>\n",
       "      <th>12-21-00 00:15:00</th>\n",
       "      <td>0.0</td>\n",
       "      <td>0.0</td>\n",
       "      <td>0.0</td>\n",
       "      <td>0.0</td>\n",
       "      <td>0.0</td>\n",
       "    </tr>\n",
       "    <tr>\n",
       "      <th>12-21-00 00:30:00</th>\n",
       "      <td>0.0</td>\n",
       "      <td>0.0</td>\n",
       "      <td>0.0</td>\n",
       "      <td>0.0</td>\n",
       "      <td>0.0</td>\n",
       "    </tr>\n",
       "    <tr>\n",
       "      <th>12-21-00 00:45:00</th>\n",
       "      <td>0.0</td>\n",
       "      <td>0.0</td>\n",
       "      <td>0.0</td>\n",
       "      <td>0.0</td>\n",
       "      <td>0.0</td>\n",
       "    </tr>\n",
       "    <tr>\n",
       "      <th>12-21-00 01:00:00</th>\n",
       "      <td>0.0</td>\n",
       "      <td>0.0</td>\n",
       "      <td>0.0</td>\n",
       "      <td>0.0</td>\n",
       "      <td>0.0</td>\n",
       "    </tr>\n",
       "    <tr>\n",
       "      <th>12-21-00 01:15:00</th>\n",
       "      <td>0.0</td>\n",
       "      <td>0.0</td>\n",
       "      <td>0.0</td>\n",
       "      <td>0.0</td>\n",
       "      <td>0.0</td>\n",
       "    </tr>\n",
       "  </tbody>\n",
       "</table>\n",
       "</div>"
      ],
      "text/plain": [
       "                   ZONE ONE:Zone Windows Total Transmitted Solar Radiation Rate [W](TimeStep):0  \\\n",
       "Date/Time                                                                                         \n",
       "12-21-00 00:15:00                                                0.0                              \n",
       "12-21-00 00:30:00                                                0.0                              \n",
       "12-21-00 00:45:00                                                0.0                              \n",
       "12-21-00 01:00:00                                                0.0                              \n",
       "12-21-00 01:15:00                                                0.0                              \n",
       "\n",
       "                   ZONE ONE:Zone Windows Total Transmitted Solar Radiation Rate [W](TimeStep):1  \\\n",
       "Date/Time                                                                                         \n",
       "12-21-00 00:15:00                                                0.0                              \n",
       "12-21-00 00:30:00                                                0.0                              \n",
       "12-21-00 00:45:00                                                0.0                              \n",
       "12-21-00 01:00:00                                                0.0                              \n",
       "12-21-00 01:15:00                                                0.0                              \n",
       "\n",
       "                   ZONE ONE:Zone Windows Total Transmitted Solar Radiation Rate [W](TimeStep):2  \\\n",
       "Date/Time                                                                                         \n",
       "12-21-00 00:15:00                                                0.0                              \n",
       "12-21-00 00:30:00                                                0.0                              \n",
       "12-21-00 00:45:00                                                0.0                              \n",
       "12-21-00 01:00:00                                                0.0                              \n",
       "12-21-00 01:15:00                                                0.0                              \n",
       "\n",
       "                   ZONE ONE:Zone Windows Total Transmitted Solar Radiation Rate [W](TimeStep):3  \\\n",
       "Date/Time                                                                                         \n",
       "12-21-00 00:15:00                                                0.0                              \n",
       "12-21-00 00:30:00                                                0.0                              \n",
       "12-21-00 00:45:00                                                0.0                              \n",
       "12-21-00 01:00:00                                                0.0                              \n",
       "12-21-00 01:15:00                                                0.0                              \n",
       "\n",
       "                   ZONE ONE:Zone Windows Total Transmitted Solar Radiation Rate [W](TimeStep):4  \n",
       "Date/Time                                                                                        \n",
       "12-21-00 00:15:00                                                0.0                             \n",
       "12-21-00 00:30:00                                                0.0                             \n",
       "12-21-00 00:45:00                                                0.0                             \n",
       "12-21-00 01:00:00                                                0.0                             \n",
       "12-21-00 01:15:00                                                0.0                             "
      ]
     },
     "execution_count": 27,
     "metadata": {},
     "output_type": "execute_result"
    }
   ],
   "source": [
    "df.head()"
   ]
  },
  {
   "cell_type": "code",
   "execution_count": 28,
   "metadata": {
    "colab": {
     "base_uri": "https://localhost:8080/",
     "height": 341
    },
    "executionInfo": {
     "elapsed": 6240,
     "status": "ok",
     "timestamp": 1608053992753,
     "user": {
      "displayName": "Paula Moreno",
      "photoUrl": "",
      "userId": "09351869284569439369"
     },
     "user_tz": 0
    },
    "id": "R_7P72U9o70W",
    "outputId": "87c85044-96f7-43ac-b2bf-534f7315d7b4"
   },
   "outputs": [
    {
     "name": "stdout",
     "output_type": "stream",
     "text": [
      "<class 'pandas.core.frame.DataFrame'>\n",
      "Index: 192 entries, 12-21-00 00:15:00 to 07-21-00 00:00:00\n",
      "Data columns (total 5 columns):\n",
      " #   Column                                                                        Non-Null Count  Dtype  \n",
      "---  ------                                                                        --------------  -----  \n",
      " 0   ZONE ONE:Zone Windows Total Transmitted Solar Radiation Rate [W](TimeStep):0  192 non-null    float64\n",
      " 1   ZONE ONE:Zone Windows Total Transmitted Solar Radiation Rate [W](TimeStep):1  192 non-null    float64\n",
      " 2   ZONE ONE:Zone Windows Total Transmitted Solar Radiation Rate [W](TimeStep):2  192 non-null    float64\n",
      " 3   ZONE ONE:Zone Windows Total Transmitted Solar Radiation Rate [W](TimeStep):3  192 non-null    float64\n",
      " 4   ZONE ONE:Zone Windows Total Transmitted Solar Radiation Rate [W](TimeStep):4  192 non-null    float64\n",
      "dtypes: float64(5)\n",
      "memory usage: 9.0+ KB\n"
     ]
    }
   ],
   "source": [
    "df.info()"
   ]
  },
  {
   "cell_type": "code",
   "execution_count": null,
   "metadata": {},
   "outputs": [],
   "source": []
  },
  {
   "cell_type": "code",
   "execution_count": 29,
   "metadata": {
    "colab": {
     "base_uri": "https://localhost:8080/",
     "height": 573
    },
    "executionInfo": {
     "elapsed": 1005,
     "status": "error",
     "timestamp": 1607938960501,
     "user": {
      "displayName": "Paula Moreno",
      "photoUrl": "",
      "userId": "09351869284569439369"
     },
     "user_tz": 0
    },
    "id": "cCqaar-f3qUI",
    "outputId": "ba815f37-28a3-4d74-fcee-edb0cb253deb"
   },
   "outputs": [],
   "source": [
    "df.index = pd.to_datetime(df.index, format = '%m-%d-%y %H:%M:%S')\n",
    "# data['Date/Time'].to_datetime('%m-%d-%y %H:%M:%S')"
   ]
  },
  {
   "cell_type": "code",
   "execution_count": 30,
   "metadata": {
    "colab": {
     "base_uri": "https://localhost:8080/",
     "height": 664
    },
    "executionInfo": {
     "elapsed": 1107,
     "status": "ok",
     "timestamp": 1607938868286,
     "user": {
      "displayName": "Paula Moreno",
      "photoUrl": "",
      "userId": "09351869284569439369"
     },
     "user_tz": 0
    },
    "id": "5eWYvPd_n_XL",
    "outputId": "9e73e2bf-883a-4506-8912-31627549cfbb",
    "scrolled": true
   },
   "outputs": [
    {
     "data": {
      "text/html": [
       "<div>\n",
       "<style scoped>\n",
       "    .dataframe tbody tr th:only-of-type {\n",
       "        vertical-align: middle;\n",
       "    }\n",
       "\n",
       "    .dataframe tbody tr th {\n",
       "        vertical-align: top;\n",
       "    }\n",
       "\n",
       "    .dataframe thead th {\n",
       "        text-align: right;\n",
       "    }\n",
       "</style>\n",
       "<table border=\"1\" class=\"dataframe\">\n",
       "  <thead>\n",
       "    <tr style=\"text-align: right;\">\n",
       "      <th></th>\n",
       "      <th>ZONE ONE:Zone Windows Total Transmitted Solar Radiation Rate [W](TimeStep):0</th>\n",
       "      <th>ZONE ONE:Zone Windows Total Transmitted Solar Radiation Rate [W](TimeStep):1</th>\n",
       "      <th>ZONE ONE:Zone Windows Total Transmitted Solar Radiation Rate [W](TimeStep):2</th>\n",
       "      <th>ZONE ONE:Zone Windows Total Transmitted Solar Radiation Rate [W](TimeStep):3</th>\n",
       "      <th>ZONE ONE:Zone Windows Total Transmitted Solar Radiation Rate [W](TimeStep):4</th>\n",
       "    </tr>\n",
       "    <tr>\n",
       "      <th>Date/Time</th>\n",
       "      <th></th>\n",
       "      <th></th>\n",
       "      <th></th>\n",
       "      <th></th>\n",
       "      <th></th>\n",
       "    </tr>\n",
       "  </thead>\n",
       "  <tbody>\n",
       "    <tr>\n",
       "      <th>2000-12-21 00:15:00</th>\n",
       "      <td>0.0</td>\n",
       "      <td>0.0</td>\n",
       "      <td>0.0</td>\n",
       "      <td>0.0</td>\n",
       "      <td>0.0</td>\n",
       "    </tr>\n",
       "    <tr>\n",
       "      <th>2000-12-21 00:30:00</th>\n",
       "      <td>0.0</td>\n",
       "      <td>0.0</td>\n",
       "      <td>0.0</td>\n",
       "      <td>0.0</td>\n",
       "      <td>0.0</td>\n",
       "    </tr>\n",
       "    <tr>\n",
       "      <th>2000-12-21 00:45:00</th>\n",
       "      <td>0.0</td>\n",
       "      <td>0.0</td>\n",
       "      <td>0.0</td>\n",
       "      <td>0.0</td>\n",
       "      <td>0.0</td>\n",
       "    </tr>\n",
       "    <tr>\n",
       "      <th>2000-12-21 01:00:00</th>\n",
       "      <td>0.0</td>\n",
       "      <td>0.0</td>\n",
       "      <td>0.0</td>\n",
       "      <td>0.0</td>\n",
       "      <td>0.0</td>\n",
       "    </tr>\n",
       "    <tr>\n",
       "      <th>2000-12-21 01:15:00</th>\n",
       "      <td>0.0</td>\n",
       "      <td>0.0</td>\n",
       "      <td>0.0</td>\n",
       "      <td>0.0</td>\n",
       "      <td>0.0</td>\n",
       "    </tr>\n",
       "    <tr>\n",
       "      <th>...</th>\n",
       "      <td>...</td>\n",
       "      <td>...</td>\n",
       "      <td>...</td>\n",
       "      <td>...</td>\n",
       "      <td>...</td>\n",
       "    </tr>\n",
       "    <tr>\n",
       "      <th>2000-07-21 23:00:00</th>\n",
       "      <td>0.0</td>\n",
       "      <td>0.0</td>\n",
       "      <td>0.0</td>\n",
       "      <td>0.0</td>\n",
       "      <td>0.0</td>\n",
       "    </tr>\n",
       "    <tr>\n",
       "      <th>2000-07-21 23:15:00</th>\n",
       "      <td>0.0</td>\n",
       "      <td>0.0</td>\n",
       "      <td>0.0</td>\n",
       "      <td>0.0</td>\n",
       "      <td>0.0</td>\n",
       "    </tr>\n",
       "    <tr>\n",
       "      <th>2000-07-21 23:30:00</th>\n",
       "      <td>0.0</td>\n",
       "      <td>0.0</td>\n",
       "      <td>0.0</td>\n",
       "      <td>0.0</td>\n",
       "      <td>0.0</td>\n",
       "    </tr>\n",
       "    <tr>\n",
       "      <th>2000-07-21 23:45:00</th>\n",
       "      <td>0.0</td>\n",
       "      <td>0.0</td>\n",
       "      <td>0.0</td>\n",
       "      <td>0.0</td>\n",
       "      <td>0.0</td>\n",
       "    </tr>\n",
       "    <tr>\n",
       "      <th>2000-07-21 00:00:00</th>\n",
       "      <td>0.0</td>\n",
       "      <td>0.0</td>\n",
       "      <td>0.0</td>\n",
       "      <td>0.0</td>\n",
       "      <td>0.0</td>\n",
       "    </tr>\n",
       "  </tbody>\n",
       "</table>\n",
       "<p>192 rows × 5 columns</p>\n",
       "</div>"
      ],
      "text/plain": [
       "                     ZONE ONE:Zone Windows Total Transmitted Solar Radiation Rate [W](TimeStep):0  \\\n",
       "Date/Time                                                                                           \n",
       "2000-12-21 00:15:00                                                0.0                              \n",
       "2000-12-21 00:30:00                                                0.0                              \n",
       "2000-12-21 00:45:00                                                0.0                              \n",
       "2000-12-21 01:00:00                                                0.0                              \n",
       "2000-12-21 01:15:00                                                0.0                              \n",
       "...                                                                ...                              \n",
       "2000-07-21 23:00:00                                                0.0                              \n",
       "2000-07-21 23:15:00                                                0.0                              \n",
       "2000-07-21 23:30:00                                                0.0                              \n",
       "2000-07-21 23:45:00                                                0.0                              \n",
       "2000-07-21 00:00:00                                                0.0                              \n",
       "\n",
       "                     ZONE ONE:Zone Windows Total Transmitted Solar Radiation Rate [W](TimeStep):1  \\\n",
       "Date/Time                                                                                           \n",
       "2000-12-21 00:15:00                                                0.0                              \n",
       "2000-12-21 00:30:00                                                0.0                              \n",
       "2000-12-21 00:45:00                                                0.0                              \n",
       "2000-12-21 01:00:00                                                0.0                              \n",
       "2000-12-21 01:15:00                                                0.0                              \n",
       "...                                                                ...                              \n",
       "2000-07-21 23:00:00                                                0.0                              \n",
       "2000-07-21 23:15:00                                                0.0                              \n",
       "2000-07-21 23:30:00                                                0.0                              \n",
       "2000-07-21 23:45:00                                                0.0                              \n",
       "2000-07-21 00:00:00                                                0.0                              \n",
       "\n",
       "                     ZONE ONE:Zone Windows Total Transmitted Solar Radiation Rate [W](TimeStep):2  \\\n",
       "Date/Time                                                                                           \n",
       "2000-12-21 00:15:00                                                0.0                              \n",
       "2000-12-21 00:30:00                                                0.0                              \n",
       "2000-12-21 00:45:00                                                0.0                              \n",
       "2000-12-21 01:00:00                                                0.0                              \n",
       "2000-12-21 01:15:00                                                0.0                              \n",
       "...                                                                ...                              \n",
       "2000-07-21 23:00:00                                                0.0                              \n",
       "2000-07-21 23:15:00                                                0.0                              \n",
       "2000-07-21 23:30:00                                                0.0                              \n",
       "2000-07-21 23:45:00                                                0.0                              \n",
       "2000-07-21 00:00:00                                                0.0                              \n",
       "\n",
       "                     ZONE ONE:Zone Windows Total Transmitted Solar Radiation Rate [W](TimeStep):3  \\\n",
       "Date/Time                                                                                           \n",
       "2000-12-21 00:15:00                                                0.0                              \n",
       "2000-12-21 00:30:00                                                0.0                              \n",
       "2000-12-21 00:45:00                                                0.0                              \n",
       "2000-12-21 01:00:00                                                0.0                              \n",
       "2000-12-21 01:15:00                                                0.0                              \n",
       "...                                                                ...                              \n",
       "2000-07-21 23:00:00                                                0.0                              \n",
       "2000-07-21 23:15:00                                                0.0                              \n",
       "2000-07-21 23:30:00                                                0.0                              \n",
       "2000-07-21 23:45:00                                                0.0                              \n",
       "2000-07-21 00:00:00                                                0.0                              \n",
       "\n",
       "                     ZONE ONE:Zone Windows Total Transmitted Solar Radiation Rate [W](TimeStep):4  \n",
       "Date/Time                                                                                          \n",
       "2000-12-21 00:15:00                                                0.0                             \n",
       "2000-12-21 00:30:00                                                0.0                             \n",
       "2000-12-21 00:45:00                                                0.0                             \n",
       "2000-12-21 01:00:00                                                0.0                             \n",
       "2000-12-21 01:15:00                                                0.0                             \n",
       "...                                                                ...                             \n",
       "2000-07-21 23:00:00                                                0.0                             \n",
       "2000-07-21 23:15:00                                                0.0                             \n",
       "2000-07-21 23:30:00                                                0.0                             \n",
       "2000-07-21 23:45:00                                                0.0                             \n",
       "2000-07-21 00:00:00                                                0.0                             \n",
       "\n",
       "[192 rows x 5 columns]"
      ]
     },
     "execution_count": 30,
     "metadata": {},
     "output_type": "execute_result"
    }
   ],
   "source": [
    "df"
   ]
  },
  {
   "cell_type": "code",
   "execution_count": 33,
   "metadata": {},
   "outputs": [
    {
     "ename": "AttributeError",
     "evalue": "'AxesSubplot' object has no attribute 'show'",
     "output_type": "error",
     "traceback": [
      "\u001b[0;31m---------------------------------------------------------------------------\u001b[0m",
      "\u001b[0;31mAttributeError\u001b[0m                            Traceback (most recent call last)",
      "\u001b[0;32m<ipython-input-33-86cb451031cf>\u001b[0m in \u001b[0;36m<module>\u001b[0;34m()\u001b[0m\n\u001b[0;32m----> 1\u001b[0;31m \u001b[0mdf\u001b[0m\u001b[0;34m.\u001b[0m\u001b[0mplot\u001b[0m\u001b[0;34m(\u001b[0m\u001b[0;34m)\u001b[0m\u001b[0;34m.\u001b[0m\u001b[0mshow\u001b[0m\u001b[0;34m(\u001b[0m\u001b[0;34m)\u001b[0m\u001b[0;34m\u001b[0m\u001b[0;34m\u001b[0m\u001b[0m\n\u001b[0m",
      "\u001b[0;31mAttributeError\u001b[0m: 'AxesSubplot' object has no attribute 'show'"
     ]
    },
    {
     "data": {
      "image/png": "[encoded data removed]",
      "text/plain": [
       "<Figure size 432x288 with 1 Axes>"
      ]
     },
     "metadata": {
      "needs_background": "light"
     },
     "output_type": "display_data"
    }
   ],
   "source": [
    "df.plot().show()"
   ]
  },
  {
   "cell_type": "code",
   "execution_count": null,
   "metadata": {},
   "outputs": [],
   "source": []
  },
  {
   "cell_type": "code",
   "execution_count": null,
   "metadata": {},
   "outputs": [],
   "source": []
  }
 ],
 "metadata": {
  "colab": {
   "authorship_tag": "ABX9TyNjAER2H7kwEHNSvZ8F8i2e",
   "mount_file_id": "1O5CF2GxSjqc72p5bDGkSEGuk5lGjXNiH",
   "name": "outputStudy.ipynb",
   "provenance": []
  },
  "kernelspec": {
   "display_name": "_ep_",
   "language": "python",
   "name": "_ep_"
  },
  "language_info": {
   "codemirror_mode": {
    "name": "ipython",
    "version": 3
   },
   "file_extension": ".py",
   "mimetype": "text/x-python",
   "name": "python",
   "nbconvert_exporter": "python",
   "pygments_lexer": "ipython3",
   "version": "3.6.11"
  }
 },
 "nbformat": 4,
 "nbformat_minor": 1
}
