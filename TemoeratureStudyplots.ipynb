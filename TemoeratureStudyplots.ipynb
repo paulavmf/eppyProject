{
 "cells": [
  {
   "cell_type": "code",
   "execution_count": 13,
   "metadata": {},
   "outputs": [],
   "source": [
    "import pandas as pd\n",
    "from helpers import *\n",
    "%matplotlib inline\n",
    "import ipywidgets as widgets\n",
    "from ipywidgets import interact, interact_manual\n",
    "from helpers import *\n",
    "from eppy.modeleditor import IDF\n",
    "from IPython.display import display\n",
    "\n",
    "import os"
   ]
  },
  {
   "cell_type": "markdown",
   "metadata": {},
   "source": [
    "## Primer estudio \n",
    "Input: eppyProject/input/simple_room_1_window_1_door.idf\n",
    "\n",
    "with obj ['PEOPLE', 'LIGHTS', 'ELECTRICEQUIPMENT'] deleted (no lights, people or electricequipment)\n",
    "\n",
    "Variables: ['Site Outdoor Air Drybulb Temperature','Zone Air Temperature']\n",
    "\n",
    "python Script: TemperaturaStudy.py"
   ]
  },
  {
   "cell_type": "code",
   "execution_count": null,
   "metadata": {},
   "outputs": [],
   "source": [
    "Tengo que copiar el objeto"
   ]
  },
  {
   "cell_type": "code",
   "execution_count": 5,
   "metadata": {},
   "outputs": [],
   "source": [
    "data = eso_to_ts('output/no_HVC_no_people_study/eplusout.csv')\n",
    "\n",
    "idffile = 'input/simple_room_1_window_1_door.idf'\n",
    "iddfile = '/usr/local/EnergyPlus-9-4-0/Energy+.idd'\n",
    "epwfile = '/usr/local/EnergyPlus-9-4-0/WeatherData/USA_CO_Golden-NREL.724666_TMY3.epw'\n",
    "idf1 = initialization(idffile, iddfile, epwfile)"
   ]
  },
  {
   "cell_type": "code",
   "execution_count": 6,
   "metadata": {
    "scrolled": true
   },
   "outputs": [
    {
     "data": {
      "text/html": [
       "<div>\n",
       "<style scoped>\n",
       "    .dataframe tbody tr th:only-of-type {\n",
       "        vertical-align: middle;\n",
       "    }\n",
       "\n",
       "    .dataframe tbody tr th {\n",
       "        vertical-align: top;\n",
       "    }\n",
       "\n",
       "    .dataframe thead th {\n",
       "        text-align: right;\n",
       "    }\n",
       "</style>\n",
       "<table border=\"1\" class=\"dataframe\">\n",
       "  <thead>\n",
       "    <tr style=\"text-align: right;\">\n",
       "      <th></th>\n",
       "      <th>Environment:Site Outdoor Air Drybulb Temperature [C](Hourly)</th>\n",
       "      <th>THERMAL ZONE 1 THERMAL ZONE:Zone Air Temperature [C](Hourly)</th>\n",
       "    </tr>\n",
       "    <tr>\n",
       "      <th>Date/Time</th>\n",
       "      <th></th>\n",
       "      <th></th>\n",
       "    </tr>\n",
       "  </thead>\n",
       "  <tbody>\n",
       "    <tr>\n",
       "      <th>2000-01-01 01:00:00</th>\n",
       "      <td>-4.666667</td>\n",
       "      <td>10.327779</td>\n",
       "    </tr>\n",
       "    <tr>\n",
       "      <th>2000-01-01 02:00:00</th>\n",
       "      <td>-3.000000</td>\n",
       "      <td>10.459676</td>\n",
       "    </tr>\n",
       "    <tr>\n",
       "      <th>2000-01-01 03:00:00</th>\n",
       "      <td>-3.583333</td>\n",
       "      <td>10.301047</td>\n",
       "    </tr>\n",
       "    <tr>\n",
       "      <th>2000-01-01 04:00:00</th>\n",
       "      <td>-2.833333</td>\n",
       "      <td>10.218339</td>\n",
       "    </tr>\n",
       "    <tr>\n",
       "      <th>2000-01-01 05:00:00</th>\n",
       "      <td>-2.000000</td>\n",
       "      <td>10.265107</td>\n",
       "    </tr>\n",
       "  </tbody>\n",
       "</table>\n",
       "</div>"
      ],
      "text/plain": [
       "                     Environment:Site Outdoor Air Drybulb Temperature [C](Hourly)  \\\n",
       "Date/Time                                                                           \n",
       "2000-01-01 01:00:00                                          -4.666667              \n",
       "2000-01-01 02:00:00                                          -3.000000              \n",
       "2000-01-01 03:00:00                                          -3.583333              \n",
       "2000-01-01 04:00:00                                          -2.833333              \n",
       "2000-01-01 05:00:00                                          -2.000000              \n",
       "\n",
       "                     THERMAL ZONE 1 THERMAL ZONE:Zone Air Temperature [C](Hourly)   \n",
       "Date/Time                                                                           \n",
       "2000-01-01 01:00:00                                          10.327779              \n",
       "2000-01-01 02:00:00                                          10.459676              \n",
       "2000-01-01 03:00:00                                          10.301047              \n",
       "2000-01-01 04:00:00                                          10.218339              \n",
       "2000-01-01 05:00:00                                          10.265107              "
      ]
     },
     "execution_count": 6,
     "metadata": {},
     "output_type": "execute_result"
    }
   ],
   "source": [
    "data.head()"
   ]
  },
  {
   "cell_type": "code",
   "execution_count": 17,
   "metadata": {},
   "outputs": [
    {
     "data": {
      "application/vnd.jupyter.widget-view+json": {
       "model_id": "9fc27f8e495f4ea49f4afacb5e6f1e85",
       "version_major": 2,
       "version_minor": 0
      },
      "text/plain": [
       "interactive(children=(Dropdown(description='classes', options=('VERSION', 'SIMULATIONCONTROL', 'BUILDING', 'TI…"
      ]
     },
     "metadata": {},
     "output_type": "display_data"
    }
   ],
   "source": [
    "@interact\n",
    "def show_not_null_classes(classes = notnullobj(idf1)):\n",
    "    return epobject_to_df(idf1.idfobjects[classes])"
   ]
  },
  {
   "cell_type": "code",
   "execution_count": 5,
   "metadata": {},
   "outputs": [
    {
     "data": {
      "text/plain": [
       "<AxesSubplot:xlabel='Date/Time'>"
      ]
     },
     "execution_count": 5,
     "metadata": {},
     "output_type": "execute_result"
    },
    {
     "data": {
      "image/png": "[encoded data removed]",
      "text/plain": [
       "<Figure size 432x288 with 1 Axes>"
      ]
     },
     "metadata": {
      "needs_background": "light"
     },
     "output_type": "display_data"
    }
   ],
   "source": [
    "data.plot()"
   ]
  },
  {
   "cell_type": "markdown",
   "metadata": {},
   "source": [
    "## segundo estudio\n",
    "\n",
    "Input: 'eppyProject/input/simple_room_1_window_1_door_ventilator_constant.idf'.idf\n",
    "\n",
    "Using HVACTemplate:System:Unitary\n",
    "\n",
    "Heating_Setpoint_Schedule_Name \tAlways On Continuous\n",
    "\n",
    "with obj ['PEOPLE', 'LIGHTS', 'ELECTRICEQUIPMENT'] deleted (no lights, people or electricequipment)\n",
    "\n",
    "Variables: ['Site Outdoor Air Drybulb Temperature','Zone Air Temperature']\n",
    "\n",
    "python Script: TemperaturaStudy2.py\n"
   ]
  },
  {
   "cell_type": "code",
   "execution_count": 14,
   "metadata": {},
   "outputs": [],
   "source": [
    "data2 = eso_to_ts('/home/paula/Documentos/Doctorado/Desarrollo/eppyProject/studies/Temperaturestudy2/eplusout.csv')\n",
    "idffile = 'input/simple_room_1_window_1_door_ventilator_constant.idf'\n",
    "iddfile = '/usr/local/EnergyPlus-9-4-0/Energy+.idd'\n",
    "epwfile = '/usr/local/EnergyPlus-9-4-0/WeatherData/USA_CO_Golden-NREL.724666_TMY3.epw'\n",
    "idf2 = initialization(idffile, iddfile, epwfile)"
   ]
  },
  {
   "cell_type": "code",
   "execution_count": 20,
   "metadata": {},
   "outputs": [
    {
     "data": {
      "text/html": [
       "<div>\n",
       "<style scoped>\n",
       "    .dataframe tbody tr th:only-of-type {\n",
       "        vertical-align: middle;\n",
       "    }\n",
       "\n",
       "    .dataframe tbody tr th {\n",
       "        vertical-align: top;\n",
       "    }\n",
       "\n",
       "    .dataframe thead th {\n",
       "        text-align: right;\n",
       "    }\n",
       "</style>\n",
       "<table border=\"1\" class=\"dataframe\">\n",
       "  <thead>\n",
       "    <tr style=\"text-align: right;\">\n",
       "      <th></th>\n",
       "      <th>Environment:Site Outdoor Air Drybulb Temperature [C](Hourly)</th>\n",
       "      <th>THERMAL ZONE 1:Zone Air Temperature [C](Hourly)</th>\n",
       "    </tr>\n",
       "    <tr>\n",
       "      <th>Date/Time</th>\n",
       "      <th></th>\n",
       "      <th></th>\n",
       "    </tr>\n",
       "  </thead>\n",
       "  <tbody>\n",
       "    <tr>\n",
       "      <th>2000-01-01 01:00:00</th>\n",
       "      <td>-4.666667</td>\n",
       "      <td>10.686429</td>\n",
       "    </tr>\n",
       "    <tr>\n",
       "      <th>2000-01-01 02:00:00</th>\n",
       "      <td>-3.000000</td>\n",
       "      <td>10.760037</td>\n",
       "    </tr>\n",
       "    <tr>\n",
       "      <th>2000-01-01 03:00:00</th>\n",
       "      <td>-3.583333</td>\n",
       "      <td>10.564349</td>\n",
       "    </tr>\n",
       "    <tr>\n",
       "      <th>2000-01-01 04:00:00</th>\n",
       "      <td>-2.833333</td>\n",
       "      <td>10.457397</td>\n",
       "    </tr>\n",
       "    <tr>\n",
       "      <th>2000-01-01 05:00:00</th>\n",
       "      <td>-2.000000</td>\n",
       "      <td>10.486402</td>\n",
       "    </tr>\n",
       "  </tbody>\n",
       "</table>\n",
       "</div>"
      ],
      "text/plain": [
       "                     Environment:Site Outdoor Air Drybulb Temperature [C](Hourly)  \\\n",
       "Date/Time                                                                           \n",
       "2000-01-01 01:00:00                                          -4.666667              \n",
       "2000-01-01 02:00:00                                          -3.000000              \n",
       "2000-01-01 03:00:00                                          -3.583333              \n",
       "2000-01-01 04:00:00                                          -2.833333              \n",
       "2000-01-01 05:00:00                                          -2.000000              \n",
       "\n",
       "                     THERMAL ZONE 1:Zone Air Temperature [C](Hourly)   \n",
       "Date/Time                                                              \n",
       "2000-01-01 01:00:00                                         10.686429  \n",
       "2000-01-01 02:00:00                                         10.760037  \n",
       "2000-01-01 03:00:00                                         10.564349  \n",
       "2000-01-01 04:00:00                                         10.457397  \n",
       "2000-01-01 05:00:00                                         10.486402  "
      ]
     },
     "execution_count": 20,
     "metadata": {},
     "output_type": "execute_result"
    }
   ],
   "source": [
    "data2.head()"
   ]
  },
  {
   "cell_type": "code",
   "execution_count": 16,
   "metadata": {},
   "outputs": [
    {
     "data": {
      "application/vnd.jupyter.widget-view+json": {
       "model_id": "9f2ea4652f4f41d2926093050bc15f9c",
       "version_major": 2,
       "version_minor": 0
      },
      "text/plain": [
       "interactive(children=(Dropdown(description='classes', options=('VERSION', 'SIMULATIONCONTROL', 'BUILDING', 'TI…"
      ]
     },
     "metadata": {},
     "output_type": "display_data"
    }
   ],
   "source": [
    "@interact\n",
    "def show_not_null_classes(classes = notnullobj(idf2)):\n",
    "    return epobject_to_df(idf2.idfobjects[classes])"
   ]
  },
  {
   "cell_type": "code",
   "execution_count": 11,
   "metadata": {},
   "outputs": [
    {
     "data": {
      "text/plain": [
       "<AxesSubplot:xlabel='Date/Time'>"
      ]
     },
     "execution_count": 11,
     "metadata": {},
     "output_type": "execute_result"
    },
    {
     "data": {
      "image/png": "[encoded data removed]",
      "text/plain": [
       "<Figure size 432x288 with 1 Axes>"
      ]
     },
     "metadata": {
      "needs_background": "light"
     },
     "output_type": "display_data"
    }
   ],
   "source": [
    "data2.plot()"
   ]
  },
  {
   "cell_type": "code",
   "execution_count": 30,
   "metadata": {},
   "outputs": [
    {
     "data": {
      "text/plain": [
       "Date/Time\n",
       "2000-01-01 01:00:00    False\n",
       "2000-01-01 02:00:00    False\n",
       "2000-01-01 03:00:00    False\n",
       "2000-01-01 04:00:00    False\n",
       "2000-01-01 05:00:00    False\n",
       "                       ...  \n",
       "2000-12-31 20:00:00    False\n",
       "2000-12-31 21:00:00    False\n",
       "2000-12-31 22:00:00    False\n",
       "2000-12-31 23:00:00    False\n",
       "2000-12-31 00:00:00    False\n",
       "Length: 8760, dtype: bool"
      ]
     },
     "execution_count": 30,
     "metadata": {},
     "output_type": "execute_result"
    }
   ],
   "source": [
    "data.iloc[:,1] == data2.iloc[:,1]\n",
    "# == data2['THERMAL ZONE 1:Zone Air Temperature [C](Hourly)']"
   ]
  },
  {
   "cell_type": "code",
   "execution_count": 31,
   "metadata": {},
   "outputs": [
    {
     "data": {
      "text/plain": [
       "Date/Time\n",
       "2000-01-01 01:00:00    10.686429\n",
       "2000-01-01 02:00:00    10.760037\n",
       "2000-01-01 03:00:00    10.564349\n",
       "2000-01-01 04:00:00    10.457397\n",
       "2000-01-01 05:00:00    10.486402\n",
       "                         ...    \n",
       "2000-12-31 20:00:00    18.569484\n",
       "2000-12-31 21:00:00    18.046659\n",
       "2000-12-31 22:00:00    17.739345\n",
       "2000-12-31 23:00:00    16.501088\n",
       "2000-12-31 00:00:00    15.520410\n",
       "Name: THERMAL ZONE 1:Zone Air Temperature [C](Hourly) , Length: 8760, dtype: float64"
      ]
     },
     "execution_count": 31,
     "metadata": {},
     "output_type": "execute_result"
    }
   ],
   "source": [
    "data2.iloc[:,1]"
   ]
  },
  {
   "cell_type": "code",
   "execution_count": 32,
   "metadata": {},
   "outputs": [
    {
     "data": {
      "text/plain": [
       "Date/Time\n",
       "2000-01-01 01:00:00    10.327779\n",
       "2000-01-01 02:00:00    10.459676\n",
       "2000-01-01 03:00:00    10.301047\n",
       "2000-01-01 04:00:00    10.218339\n",
       "2000-01-01 05:00:00    10.265107\n",
       "                         ...    \n",
       "2000-12-31 20:00:00    16.277688\n",
       "2000-12-31 21:00:00    16.242180\n",
       "2000-12-31 22:00:00    16.191318\n",
       "2000-12-31 23:00:00    15.606421\n",
       "2000-12-31 00:00:00    15.015146\n",
       "Name: THERMAL ZONE 1 THERMAL ZONE:Zone Air Temperature [C](Hourly) , Length: 8760, dtype: float64"
      ]
     },
     "execution_count": 32,
     "metadata": {},
     "output_type": "execute_result"
    }
   ],
   "source": [
    "data.iloc[:,1]"
   ]
  },
  {
   "cell_type": "code",
   "execution_count": null,
   "metadata": {},
   "outputs": [],
   "source": []
  }
 ],
 "metadata": {
  "kernelspec": {
   "display_name": "_ep_",
   "language": "python",
   "name": "_ep_"
  },
  "language_info": {
   "codemirror_mode": {
    "name": "ipython",
    "version": 3
   },
   "file_extension": ".py",
   "mimetype": "text/x-python",
   "name": "python",
   "nbconvert_exporter": "python",
   "pygments_lexer": "ipython3",
   "version": "3.6.11"
  }
 },
 "nbformat": 4,
 "nbformat_minor": 4
}
