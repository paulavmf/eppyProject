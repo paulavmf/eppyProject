{
 "cells": [
  {
   "cell_type": "code",
   "execution_count": 14,
   "metadata": {},
   "outputs": [],
   "source": [
    "import sys\n",
    "pathnameto_eppy = '../'\n",
    "sys.path.append(pathnameto_eppy)\n",
    "from eppy import modeleditor\n",
    "from eppy.modeleditor import IDF\n",
    "from eppy import idf_helpers\n",
    "from eppy.bunch_subclass import EpBunch\n",
    "iddfile = 'C:\\EnergyPlusV9-4-0\\Energy+.idd'\n",
    "filename = 'input\\demo_simple.idf'\n",
    "# filename = 'C:\\EnergyPlusV9-4-0\\ExampleFiles\\WindowTests.idf'"
   ]
  },
  {
   "cell_type": "code",
   "execution_count": 15,
   "metadata": {},
   "outputs": [],
   "source": [
    "epwfile = 'C:/EnergyPlusV9-4-0/WeatherData/USA_CA_San.Francisco.Intl.AP.724940_TMY3.epw'"
   ]
  },
  {
   "cell_type": "code",
   "execution_count": 16,
   "metadata": {},
   "outputs": [],
   "source": [
    "IDF.setiddname(iddfile)\n",
    "idf = IDF(filename, epwfile)"
   ]
  },
  {
   "cell_type": "code",
   "execution_count": null,
   "metadata": {},
   "outputs": [],
   "source": [
    "dir(idf)"
   ]
  },
  {
   "cell_type": "code",
   "execution_count": null,
   "metadata": {},
   "outputs": [],
   "source": [
    "import re\n",
    "pattern = re.compile(\"SCHEDULE\")"
   ]
  },
  {
   "cell_type": "code",
   "execution_count": 141,
   "metadata": {
    "tags": []
   },
   "outputs": [
    {
     "data": {
      "text/plain": [
       "['SCHEDULETYPELIMITS',\n",
       " 'SCHEDULE:DAY:HOURLY',\n",
       " 'SCHEDULE:DAY:INTERVAL',\n",
       " 'SCHEDULE:DAY:LIST',\n",
       " 'SCHEDULE:WEEK:DAILY',\n",
       " 'SCHEDULE:WEEK:COMPACT',\n",
       " 'SCHEDULE:YEAR',\n",
       " 'SCHEDULE:COMPACT',\n",
       " 'SCHEDULE:CONSTANT',\n",
       " 'SCHEDULE:FILE:SHADING',\n",
       " 'SCHEDULE:FILE',\n",
       " 'EXTERNALINTERFACE:SCHEDULE',\n",
       " 'EXTERNALINTERFACE:FUNCTIONALMOCKUPUNITIMPORT:TO:SCHEDULE',\n",
       " 'EXTERNALINTERFACE:FUNCTIONALMOCKUPUNITEXPORT:TO:SCHEDULE',\n",
       " 'AVAILABILITYMANAGER:SCHEDULED',\n",
       " 'AVAILABILITYMANAGER:SCHEDULEDON',\n",
       " 'AVAILABILITYMANAGER:SCHEDULEDOFF',\n",
       " 'SETPOINTMANAGER:SCHEDULED',\n",
       " 'SETPOINTMANAGER:SCHEDULED:DUALSETPOINT',\n",
       " 'OUTPUT:SCHEDULES']"
      ]
     },
     "execution_count": 141,
     "metadata": {},
     "output_type": "execute_result"
    }
   ],
   "source": [
    "schedules = []\n",
    "for i in idf.idfobjects:\n",
    "    if pattern.search(i):\n",
    "        schedules.append(i)\n",
    "schedules"
   ]
  },
  {
   "cell_type": "code",
   "execution_count": 21,
   "metadata": {},
   "outputs": [],
   "source": [
    "scheduleyear = 'Schedule:Year'"
   ]
  },
  {
   "cell_type": "code",
   "execution_count": 22,
   "metadata": {
    "tags": []
   },
   "outputs": [],
   "source": [
    "schedule_object = list(filter(lambda x: x.Name == 'Office Activity',idf.idfobjects[scheduleyear]))"
   ]
  },
  {
   "cell_type": "code",
   "execution_count": 23,
   "metadata": {},
   "outputs": [
    {
     "data": {
      "text/plain": [
       "[\n",
       " Schedule:Year,\n",
       "     Office Activity,          !- Name\n",
       "     ActivityLevel,            !- Schedule Type Limits Name\n",
       "     Office Activity Week Rule - Jan1-Dec31,    !- ScheduleWeek Name 1\n",
       "     1,                        !- Start Month 1\n",
       "     1,                        !- Start Day 1\n",
       "     12,                       !- End Month 1\n",
       "     31;                       !- End Day 1]"
      ]
     },
     "execution_count": 23,
     "metadata": {},
     "output_type": "execute_result"
    }
   ],
   "source": [
    "# este es un objecto tupo chedule:year. define el año por medio de un schedule Week\n",
    "schedule_object"
   ]
  },
  {
   "cell_type": "code",
   "execution_count": 24,
   "metadata": {},
   "outputs": [],
   "source": [
    "schedule_Week = schedule_object[0].ScheduleWeek_Name_1"
   ]
  },
  {
   "cell_type": "code",
   "execution_count": 25,
   "metadata": {},
   "outputs": [
    {
     "data": {
      "text/plain": [
       "[\n",
       " Schedule:Week:Daily,\n",
       "     Office Activity Week Rule - Jan1-Dec31,    !- Name\n",
       "     Office Activity Default Schedule,    !- Sunday ScheduleDay Name\n",
       "     Office Activity Default Schedule,    !- Monday ScheduleDay Name\n",
       "     Office Activity Default Schedule,    !- Tuesday ScheduleDay Name\n",
       "     Office Activity Default Schedule,    !- Wednesday ScheduleDay Name\n",
       "     Office Activity Default Schedule,    !- Thursday ScheduleDay Name\n",
       "     Office Activity Default Schedule,    !- Friday ScheduleDay Name\n",
       "     Office Activity Default Schedule,    !- Saturday ScheduleDay Name\n",
       "     Office Activity Default Schedule,    !- Holiday ScheduleDay Name\n",
       "     Office Activity Summer Design Day,    !- SummerDesignDay ScheduleDay Name\n",
       "     Office Activity Winter Design Day,    !- WinterDesignDay ScheduleDay Name\n",
       "     Office Activity Default Schedule,    !- CustomDay1 ScheduleDay Name\n",
       "     Office Activity Default Schedule;    !- CustomDay2 ScheduleDay Name]"
      ]
     },
     "execution_count": 25,
     "metadata": {},
     "output_type": "execute_result"
    }
   ],
   "source": [
    "schedule_week_daily = list(filter(lambda x: x.Name == schedule_Week, idf.idfobjects['Schedule:Week:Daily']))\n",
    "# el obkecto schedule week daily está compyuesto por un schedule day \n",
    "schedule_week_daily"
   ]
  },
  {
   "cell_type": "code",
   "execution_count": 154,
   "metadata": {},
   "outputs": [
    {
     "data": {
      "text/plain": [
       "['SCHEDULETYPELIMITS',\n",
       " 'SCHEDULE:DAY:HOURLY',\n",
       " 'SCHEDULE:DAY:INTERVAL',\n",
       " 'SCHEDULE:DAY:LIST',\n",
       " 'SCHEDULE:WEEK:DAILY',\n",
       " 'SCHEDULE:WEEK:COMPACT',\n",
       " 'SCHEDULE:YEAR',\n",
       " 'SCHEDULE:COMPACT',\n",
       " 'SCHEDULE:CONSTANT',\n",
       " 'SCHEDULE:FILE:SHADING',\n",
       " 'SCHEDULE:FILE',\n",
       " 'EXTERNALINTERFACE:SCHEDULE',\n",
       " 'EXTERNALINTERFACE:FUNCTIONALMOCKUPUNITIMPORT:TO:SCHEDULE',\n",
       " 'EXTERNALINTERFACE:FUNCTIONALMOCKUPUNITEXPORT:TO:SCHEDULE',\n",
       " 'AVAILABILITYMANAGER:SCHEDULED',\n",
       " 'AVAILABILITYMANAGER:SCHEDULEDON',\n",
       " 'AVAILABILITYMANAGER:SCHEDULEDOFF',\n",
       " 'SETPOINTMANAGER:SCHEDULED',\n",
       " 'SETPOINTMANAGER:SCHEDULED:DUALSETPOINT',\n",
       " 'OUTPUT:SCHEDULES']"
      ]
     },
     "execution_count": 154,
     "metadata": {},
     "output_type": "execute_result"
    }
   ],
   "source": [
    "schedules"
   ]
  },
  {
   "cell_type": "code",
   "execution_count": 166,
   "metadata": {},
   "outputs": [
    {
     "data": {
      "text/plain": [
       "[\n",
       " Schedule:Day:Interval,\n",
       "     Office Activity Default Schedule,    !- Name\n",
       "     ActivityLevel,            !- Schedule Type Limits Name\n",
       "     No,                       !- Interpolate to Timestep\n",
       "     24:00,                    !- Time 1\n",
       "     132;                      !- Value Until Time 1]"
      ]
     },
     "execution_count": 166,
     "metadata": {},
     "output_type": "execute_result"
    }
   ],
   "source": [
    "list(filter(lambda x: x.Name == 'Office Activity Default Schedule', idf.idfobjects['SCHEDULE:DAY:INTERVAL']))"
   ]
  },
  {
   "cell_type": "code",
   "execution_count": 169,
   "metadata": {},
   "outputs": [],
   "source": [
    "schedule_day_interval =  [obj.Name for obj in idf.idfobjects['SCHEDULE:DAY:INTERVAL']]"
   ]
  },
  {
   "cell_type": "code",
   "execution_count": 174,
   "metadata": {},
   "outputs": [
    {
     "data": {
      "text/plain": [
       "['Large Office HtgSetp Rule 1 Day Schedule',\n",
       " 'Large Office HtgSetp Default Schedule',\n",
       " 'Large Office HtgSetp Rule 2 Day Schedule',\n",
       " 'Large Office HtgSetp Summer Design Day',\n",
       " 'Large Office HtgSetp Winter Design Day']"
      ]
     },
     "execution_count": 174,
     "metadata": {},
     "output_type": "execute_result"
    }
   ],
   "source": [
    "schedule_day_interval_list = schedule_day_interval[:5]\n",
    "schedule_day_interval_list"
   ]
  },
  {
   "cell_type": "code",
   "execution_count": 190,
   "metadata": {},
   "outputs": [],
   "source": [
    "schedule_Week_Rule = schedule_object[0].ScheduleWeek_Name_1\n",
    "schedule_Week_Rule_obj = list(filter(lambda x: x.Name == schedule_Week_Rule, idf.idfobjects['Schedule:Week:Daily']))[0]\n",
    "\n"
   ]
  },
  {
   "cell_type": "code",
   "execution_count": 191,
   "metadata": {},
   "outputs": [
    {
     "data": {
      "text/plain": [
       "\n",
       "Schedule:Week:Daily,\n",
       "    Office Activity Week Rule - Jan1-Dec31,    !- Name\n",
       "    Office Activity Default Schedule,    !- Sunday ScheduleDay Name\n",
       "    Office Activity Default Schedule,    !- Monday ScheduleDay Name\n",
       "    Office Activity Default Schedule,    !- Tuesday ScheduleDay Name\n",
       "    Office Activity Default Schedule,    !- Wednesday ScheduleDay Name\n",
       "    Office Activity Default Schedule,    !- Thursday ScheduleDay Name\n",
       "    Office Activity Default Schedule,    !- Friday ScheduleDay Name\n",
       "    Office Activity Default Schedule,    !- Saturday ScheduleDay Name\n",
       "    Office Activity Default Schedule,    !- Holiday ScheduleDay Name\n",
       "    Office Activity Summer Design Day,    !- SummerDesignDay ScheduleDay Name\n",
       "    Office Activity Winter Design Day,    !- WinterDesignDay ScheduleDay Name\n",
       "    Office Activity Default Schedule,    !- CustomDay1 ScheduleDay Name\n",
       "    Office Activity Default Schedule;    !- CustomDay2 ScheduleDay Name"
      ]
     },
     "execution_count": 191,
     "metadata": {},
     "output_type": "execute_result"
    }
   ],
   "source": [
    "schedule_Week_Rule_obj # Aquí la movida es que cambio cada día de estos"
   ]
  },
  {
   "cell_type": "code",
   "execution_count": 196,
   "metadata": {},
   "outputs": [
    {
     "data": {
      "text/plain": [
       "['CustomDay1_ScheduleDay_Name',\n",
       " 'CustomDay2_ScheduleDay_Name',\n",
       " 'Friday_ScheduleDay_Name',\n",
       " 'Holiday_ScheduleDay_Name',\n",
       " 'Monday_ScheduleDay_Name',\n",
       " 'Name',\n",
       " 'Saturday_ScheduleDay_Name',\n",
       " 'SummerDesignDay_ScheduleDay_Name',\n",
       " 'Sunday_ScheduleDay_Name',\n",
       " 'Thursday_ScheduleDay_Name',\n",
       " 'Tuesday_ScheduleDay_Name',\n",
       " 'Wednesday_ScheduleDay_Name',\n",
       " 'WinterDesignDay_ScheduleDay_Name',\n",
       " '__functions',\n",
       " 'key',\n",
       " 'obj',\n",
       " 'objidd',\n",
       " 'objls',\n",
       " 'theidf']"
      ]
     },
     "execution_count": 196,
     "metadata": {},
     "output_type": "execute_result"
    }
   ],
   "source": [
    "dir(schedule_Week_Rule_obj)"
   ]
  },
  {
   "cell_type": "code",
   "execution_count": 226,
   "metadata": {},
   "outputs": [],
   "source": [
    "fields = [f for f in schedule_Week_Rule_obj.objls if f != 'key' if f != 'Name']\n"
   ]
  },
  {
   "cell_type": "code",
   "execution_count": 234,
   "metadata": {},
   "outputs": [],
   "source": [
    "for f in fields:\n",
    "    # acceder a ese field por atributo  como string\n",
    "    \n",
    "    schedule_Week_Rule_obj.f = schedule_day_interval_list[0]"
   ]
  },
  {
   "cell_type": "code",
   "execution_count": 250,
   "metadata": {},
   "outputs": [],
   "source": [
    "schedule_Week_Rule_obj.__setattr__('Sunday_ScheduleDay_Name','Large Office HtgSetp Rule 1 Day Schedule' ) \n"
   ]
  },
  {
   "cell_type": "code",
   "execution_count": 262,
   "metadata": {},
   "outputs": [],
   "source": [
    "for i in schedule_Week_Rule_obj.objls:\n",
    "    schedule_Week_Rule_obj.__setattr__(i,schedule_day_interval_list[2])"
   ]
  },
  {
   "cell_type": "code",
   "execution_count": 263,
   "metadata": {
    "scrolled": true
   },
   "outputs": [
    {
     "data": {
      "text/plain": [
       "\n",
       "Large Office HtgSetp Rule 2 Day Schedule,\n",
       "    Large Office HtgSetp Rule 2 Day Schedule,    !- Name\n",
       "    Large Office HtgSetp Rule 2 Day Schedule,    !- Sunday ScheduleDay Name\n",
       "    Large Office HtgSetp Rule 2 Day Schedule,    !- Monday ScheduleDay Name\n",
       "    Large Office HtgSetp Rule 2 Day Schedule,    !- Tuesday ScheduleDay Name\n",
       "    Large Office HtgSetp Rule 2 Day Schedule,    !- Wednesday ScheduleDay Name\n",
       "    Large Office HtgSetp Rule 2 Day Schedule,    !- Thursday ScheduleDay Name\n",
       "    Large Office HtgSetp Rule 2 Day Schedule,    !- Friday ScheduleDay Name\n",
       "    Large Office HtgSetp Rule 2 Day Schedule,    !- Saturday ScheduleDay Name\n",
       "    Large Office HtgSetp Rule 2 Day Schedule,    !- Holiday ScheduleDay Name\n",
       "    Large Office HtgSetp Rule 2 Day Schedule,    !- SummerDesignDay ScheduleDay Name\n",
       "    Large Office HtgSetp Rule 2 Day Schedule,    !- WinterDesignDay ScheduleDay Name\n",
       "    Large Office HtgSetp Rule 2 Day Schedule,    !- CustomDay1 ScheduleDay Name\n",
       "    Large Office HtgSetp Rule 2 Day Schedule;    !- CustomDay2 ScheduleDay Name"
      ]
     },
     "execution_count": 263,
     "metadata": {},
     "output_type": "execute_result"
    }
   ],
   "source": [
    "schedule_Week_Rule_obj\n"
   ]
  },
  {
   "cell_type": "code",
   "execution_count": 43,
   "metadata": {},
   "outputs": [],
   "source": [
    "import re\n",
    "def idfobjbypattern(idf,pattern):\n",
    "    '''\n",
    "    return a list of objects named according to a pattern\n",
    "    '''\n",
    "    objlst = []\n",
    "    pattern = re.compile(pattern)\n",
    "    for i in idf.idfobjects:\n",
    "        if pattern.search(i):\n",
    "            objlst.append(i)\n",
    "    return objlst\n",
    "\n",
    "def Namebypattern(idf,objectName,pattern):\n",
    "    '''\n",
    "    return a list of objects named according to a pattern\n",
    "    '''\n",
    "    Instancelst = []\n",
    "    pattern = re.compile(pattern)\n",
    "    Instancelst = list(filter(lambda x: pattern.search(x.Name), idf.idfobjects[objectName]))\n",
    "    return objlst"
   ]
  },
  {
   "cell_type": "code",
   "execution_count": 40,
   "metadata": {},
   "outputs": [],
   "source": [
    "outputs = idfobjbypattern(idf, 'Output')"
   ]
  },
  {
   "cell_type": "code",
   "execution_count": 50,
   "metadata": {},
   "outputs": [
    {
     "data": {
      "text/plain": [
       "'Daylighting Lighting Power Multiplier'"
      ]
     },
     "execution_count": 50,
     "metadata": {},
     "output_type": "execute_result"
    }
   ],
   "source": [
    "idf.idfobjects['Output:Variable'][0].Variable_Name"
   ]
  },
  {
   "cell_type": "code",
   "execution_count": 56,
   "metadata": {},
   "outputs": [
    {
     "name": "stdout",
     "output_type": "stream",
     "text": [
      "\n",
      "Output:Variable,\n",
      "    *,                        !- Key Value\n",
      "    Zone People Convective Heating Energy,    !- Variable Name\n",
      "    Hourly;                   !- Reporting Frequency\n",
      "\n",
      "\n",
      "Output:Variable,\n",
      "    *,                        !- Key Value\n",
      "    Zone People Convective Heating Rate,    !- Variable Name\n",
      "    Hourly;                   !- Reporting Frequency\n",
      "\n",
      "\n",
      "Output:Variable,\n",
      "    *,                        !- Key Value\n",
      "    Zone People Latent Gain Energy,    !- Variable Name\n",
      "    Hourly;                   !- Reporting Frequency\n",
      "\n",
      "\n",
      "Output:Variable,\n",
      "    *,                        !- Key Value\n",
      "    Zone People Latent Gain Rate,    !- Variable Name\n",
      "    Hourly;                   !- Reporting Frequency\n",
      "\n",
      "\n",
      "Output:Variable,\n",
      "    *,                        !- Key Value\n",
      "    Zone People Occupant Count,    !- Variable Name\n",
      "    Hourly;                   !- Reporting Frequency\n",
      "\n",
      "\n",
      "Output:Variable,\n",
      "    *,                        !- Key Value\n",
      "    Zone People Radiant Heating Energy,    !- Variable Name\n",
      "    Hourly;                   !- Reporting Frequency\n",
      "\n",
      "\n",
      "Output:Variable,\n",
      "    *,                        !- Key Value\n",
      "    Zone People Sensible Heating Energy,    !- Variable Name\n",
      "    Hourly;                   !- Reporting Frequency\n",
      "\n",
      "\n",
      "Output:Variable,\n",
      "    *,                        !- Key Value\n",
      "    Zone People Sensible Heating Rate,    !- Variable Name\n",
      "    Hourly;                   !- Reporting Frequency\n",
      "\n",
      "\n",
      "Output:Variable,\n",
      "    *,                        !- Key Value\n",
      "    Zone People Total Heating Energy,    !- Variable Name\n",
      "    Hourly;                   !- Reporting Frequency\n",
      "\n",
      "\n",
      "Output:Variable,\n",
      "    *,                        !- Key Value\n",
      "    Zone People Total Heating Rate,    !- Variable Name\n",
      "    Hourly;                   !- Reporting Frequency\n",
      "\n",
      "\n",
      "Output:Variable,\n",
      "    *,                        !- Key Value\n",
      "    People Air Relative Humidity,    !- Variable Name\n",
      "    Hourly;                   !- Reporting Frequency\n",
      "\n",
      "\n",
      "Output:Variable,\n",
      "    *,                        !- Key Value\n",
      "    People Air Temperature,    !- Variable Name\n",
      "    Hourly;                   !- Reporting Frequency\n",
      "\n",
      "\n",
      "Output:Variable,\n",
      "    *,                        !- Key Value\n",
      "    People Convective Heating Energy,    !- Variable Name\n",
      "    Hourly;                   !- Reporting Frequency\n",
      "\n",
      "\n",
      "Output:Variable,\n",
      "    *,                        !- Key Value\n",
      "    People Convective Heating Rate,    !- Variable Name\n",
      "    Hourly;                   !- Reporting Frequency\n",
      "\n",
      "\n",
      "Output:Variable,\n",
      "    *,                        !- Key Value\n",
      "    People Latent Gain Energy,    !- Variable Name\n",
      "    Hourly;                   !- Reporting Frequency\n",
      "\n",
      "\n",
      "Output:Variable,\n",
      "    *,                        !- Key Value\n",
      "    People Latent Gain Rate,    !- Variable Name\n",
      "    Hourly;                   !- Reporting Frequency\n",
      "\n",
      "\n",
      "Output:Variable,\n",
      "    *,                        !- Key Value\n",
      "    People Occupant Count,    !- Variable Name\n",
      "    Hourly;                   !- Reporting Frequency\n",
      "\n",
      "\n",
      "Output:Variable,\n",
      "    *,                        !- Key Value\n",
      "    People Radiant Heating Energy,    !- Variable Name\n",
      "    Hourly;                   !- Reporting Frequency\n",
      "\n",
      "\n",
      "Output:Variable,\n",
      "    *,                        !- Key Value\n",
      "    People Radiant Heating Rate,    !- Variable Name\n",
      "    Hourly;                   !- Reporting Frequency\n",
      "\n",
      "\n",
      "Output:Variable,\n",
      "    *,                        !- Key Value\n",
      "    People Sensible Heating Energy,    !- Variable Name\n",
      "    Hourly;                   !- Reporting Frequency\n",
      "\n",
      "\n",
      "Output:Variable,\n",
      "    *,                        !- Key Value\n",
      "    People Sensible Heating Rate,    !- Variable Name\n",
      "    Hourly;                   !- Reporting Frequency\n",
      "\n",
      "\n",
      "Output:Variable,\n",
      "    *,                        !- Key Value\n",
      "    People Total Heating Energy,    !- Variable Name\n",
      "    Hourly;                   !- Reporting Frequency\n",
      "\n",
      "\n",
      "Output:Variable,\n",
      "    *,                        !- Key Value\n",
      "    People Total Heating Rate,    !- Variable Name\n",
      "    Hourly;                   !- Reporting Frequency\n",
      "\n"
     ]
    }
   ],
   "source": [
    "pattern = 'People'\n",
    "for var in idf.idfobjects['Output:Variable']:\n",
    "    pattern = re.compile(pattern)\n",
    "    if pattern.search(var.Variable_Name):\n",
    "        print(var)    "
   ]
  },
  {
   "cell_type": "code",
   "execution_count": 58,
   "metadata": {},
   "outputs": [],
   "source": [
    "rmv = list(filter(lambda x: x.Variable_Name == 'Zone People Radiant Heating Rate', idf.idfobjects['Output:Variable']))"
   ]
  },
  {
   "cell_type": "code",
   "execution_count": 77,
   "metadata": {},
   "outputs": [],
   "source": [
    "for var in idf.idfobjects['Output:Variable']:\n",
    "    if var.Variable_Name != 'Zone People Total Heating Energy':\n",
    "        idf.removeidfobject(var)\n",
    "        \n",
    "# No funciona bien la primera vez... hay que hacer con un filter en verdad\n",
    "    "
   ]
  },
  {
   "cell_type": "code",
   "execution_count": 65,
   "metadata": {},
   "outputs": [],
   "source": [
    "import pandas as pd\n",
    "data = pd.read_csv('eplusout.csv')"
   ]
  },
  {
   "cell_type": "code",
   "execution_count": 80,
   "metadata": {},
   "outputs": [
    {
     "data": {
      "text/plain": [
       "[\n",
       "Output:Variable,\n",
       "    *,                        !- Key Value\n",
       "    Zone People Total Heating Energy,    !- Variable Name\n",
       "    Hourly;                   !- Reporting Frequency\n",
       "]"
      ]
     },
     "execution_count": 80,
     "metadata": {},
     "output_type": "execute_result"
    }
   ],
   "source": [
    "idf.idfobjects['Output:Variable']\n",
    "# no veo esta variable en el autput........"
   ]
  },
  {
   "cell_type": "code",
   "execution_count": null,
   "metadata": {},
   "outputs": [],
   "source": [
    "data.loc[2]"
   ]
  },
  {
   "cell_type": "code",
   "execution_count": null,
   "metadata": {},
   "outputs": [],
   "source": [
    "variable = data.columns[1]"
   ]
  },
  {
   "cell_type": "code",
   "execution_count": 79,
   "metadata": {},
   "outputs": [
    {
     "name": "stdout",
     "output_type": "stream",
     "text": [
      "\r\n",
      "C:\\EnergyPlusV9-4-0\\energyplus.exe --weather C:\\EnergyPlusV9-4-0\\WeatherData\\USA_CA_San.Francisco.Intl.AP.724940_TMY3.epw --output-directory C:\\Users\\Paula\\Documents\\eppyProject --idd C:\\EnergyPlusV9-4-0\\Energy+.idd --expandobjects C:\\Users\\Paula\\Documents\\eppyProject\\in.idf\r\n",
      "\n"
     ]
    }
   ],
   "source": [
    "idf.run()"
   ]
  },
  {
   "cell_type": "code",
   "execution_count": null,
   "metadata": {},
   "outputs": [],
   "source": [
    "def time_comparation(idfObject,variable):\n",
    "    "
   ]
  }
 ],
 "metadata": {
  "kernelspec": {
   "display_name": "_ep",
   "language": "python",
   "name": "_ep"
  },
  "language_info": {
   "codemirror_mode": {
    "name": "ipython",
    "version": 3
   },
   "file_extension": ".py",
   "mimetype": "text/x-python",
   "name": "python",
   "nbconvert_exporter": "python",
   "pygments_lexer": "ipython3",
   "version": "3.8.5"
  }
 },
 "nbformat": 4,
 "nbformat_minor": 4
}
