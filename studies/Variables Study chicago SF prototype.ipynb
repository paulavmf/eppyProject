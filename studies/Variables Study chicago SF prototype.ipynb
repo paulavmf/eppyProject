{
 "cells": [
  {
   "cell_type": "code",
   "execution_count": 1,
   "metadata": {},
   "outputs": [
    {
     "ename": "ModuleNotFoundError",
     "evalue": "No module named 'helpers'",
     "output_type": "error",
     "traceback": [
      "\u001b[0;31m---------------------------------------------------------------------------\u001b[0m",
      "\u001b[0;31mModuleNotFoundError\u001b[0m                       Traceback (most recent call last)",
      "\u001b[0;32m/tmp/ipykernel_20647/113475247.py\u001b[0m in \u001b[0;36m<module>\u001b[0;34m\u001b[0m\n\u001b[0;32m----> 1\u001b[0;31m \u001b[0;32mfrom\u001b[0m \u001b[0mhelpers\u001b[0m\u001b[0;34m.\u001b[0m\u001b[0midf_helpers\u001b[0m \u001b[0;32mimport\u001b[0m \u001b[0;34m*\u001b[0m\u001b[0;34m\u001b[0m\u001b[0;34m\u001b[0m\u001b[0m\n\u001b[0m\u001b[1;32m      2\u001b[0m \u001b[0;32mfrom\u001b[0m \u001b[0mhelpers\u001b[0m\u001b[0;34m.\u001b[0m\u001b[0mplot_helpers\u001b[0m \u001b[0;32mimport\u001b[0m \u001b[0;34m*\u001b[0m\u001b[0;34m\u001b[0m\u001b[0;34m\u001b[0m\u001b[0m\n\u001b[1;32m      3\u001b[0m \u001b[0;32mfrom\u001b[0m \u001b[0mstudies\u001b[0m \u001b[0;32mimport\u001b[0m \u001b[0mrun_study\u001b[0m\u001b[0;34m\u001b[0m\u001b[0;34m\u001b[0m\u001b[0m\n\u001b[1;32m      4\u001b[0m \u001b[0;34m\u001b[0m\u001b[0m\n\u001b[1;32m      5\u001b[0m \u001b[0;32mimport\u001b[0m \u001b[0mpandas\u001b[0m \u001b[0;32mas\u001b[0m \u001b[0mpd\u001b[0m\u001b[0;34m\u001b[0m\u001b[0;34m\u001b[0m\u001b[0m\n",
      "\u001b[0;31mModuleNotFoundError\u001b[0m: No module named 'helpers'"
     ]
    }
   ],
   "source": [
    "from helpers.idf_helpers import *\n",
    "from helpers.plot_helpers import *\n",
    "from studies import run_study\n",
    "\n",
    "import pandas as pd\n",
    "import matplotlib.pyplot as plt\n",
    "import ipywidgets as widgets\n",
    "from ipywidgets import interact, interact_manual, SelectMultiple\n",
    "from eppy.modeleditor import IDF\n",
    "from IPython.display import display\n",
    "\n",
    "import os"
   ]
  },
  {
   "cell_type": "code",
   "execution_count": null,
   "metadata": {},
   "outputs": [],
   "source": [
    "outputs = pd.read_excel('Output Variables.xlsx')"
   ]
  },
  {
   "cell_type": "code",
   "execution_count": null,
   "metadata": {},
   "outputs": [],
   "source": [
    "temp = outputs[outputs['Units']=='C']"
   ]
  },
  {
   "cell_type": "code",
   "execution_count": null,
   "metadata": {},
   "outputs": [],
   "source": [
    "@interact\n",
    "def get_output(output = temp['Output Name']):\n",
    "    return temp[temp['Output Name']==output]"
   ]
  },
  {
   "cell_type": "code",
   "execution_count": null,
   "metadata": {},
   "outputs": [],
   "source": [
    "var_list = ['Zone Mean Radiant Temperature',\n",
    "            'Zone Mean Air Temperature',\n",
    "            'Zone Operative Temperature',\n",
    "            'Zone Mean Air Dewpoint Temperature',\n",
    "            'Zone Outdoor Air Wetbulb Temperature', \n",
    "            'Zone Air Temperature',\n",
    "            'Zone Thermostat Air Temperature',\n",
    "            'Zone Thermostat Heating Setpoint Temperature',\n",
    "            'Zone Thermostat Cooling Setpoint Temperature',\n",
    "      '     Zone Adaptive Comfort Operative Temperature Set Point',\n",
    "           'Zone Heat Index']"
   ]
  },
  {
   "cell_type": "code",
   "execution_count": null,
   "metadata": {},
   "outputs": [],
   "source": [
    "idffile = 'input/SF+CZ5A+USA_IL_Chicago-OHare.Intl.AP.725300+hp+crawlspace+IECC_2018.idf'\n",
    "iddfile = '/usr/local/EnergyPlus-8-6-0/Energy+.idd'\n",
    "epwfile = '/home/paula/Documentos/Doctorado/Desarrollo/eppyProject/input/Wheather file/FRA_Paris.Orly.071490_IWEC.epw'\n",
    "idf2 = initialization(idffile, iddfile, epwfile)"
   ]
  },
  {
   "cell_type": "code",
   "execution_count": null,
   "metadata": {
    "scrolled": true
   },
   "outputs": [],
   "source": [
    "@interact\n",
    "def show_not_null_classes(classes = notnullobj(idf2)):\n",
    "    return epobject_to_df(idf2.idfobjects[classes])"
   ]
  },
  {
   "cell_type": "raw",
   "metadata": {},
   "source": [
    "idf = idf2\n",
    "objs_to_delete=[]\n",
    "scriptname='variable_study_CHICAGO'\n",
    "vars_name=var_list\n",
    "for obj in objs_to_delete:\n",
    "    for o in idf.idfobjects[obj]:\n",
    "        idf.removeidfobject(o)\n",
    "# TODO hacer esto general\n",
    "# hacer un remove de las variables que ya estaban\n",
    "\n",
    "for n in range(len(vars_name)):\n",
    "    idf.newidfobject('OUTPUT:VARIABLE')\n",
    "    idf.idfobjects['OUTPUT:VARIABLE'][n].Variable_Name = vars_name[n]\n",
    "foldername = scriptname.replace('.py', '')\n",
    "\n",
    "try:\n",
    "    os.mkdir(foldername)\n",
    "except FileExistsError:\n",
    "    print(\"Directory already exists\")\n",
    "abs_newdir = '/home/paula/Documentos/Doctorado/Desarrollo/eppyProject/variable_study'\n",
    "#idf.saveas(abs_newdir + '/idffile.idf')\n",
    "idf.run(output_directory=abs_newdir)"
   ]
  },
  {
   "cell_type": "code",
   "execution_count": null,
   "metadata": {},
   "outputs": [],
   "source": [
    "%%bash\n",
    "cp studies/ReadVarsESO variable_study_CHICAGO/\n"
   ]
  },
  {
   "cell_type": "code",
   "execution_count": null,
   "metadata": {
    "scrolled": true
   },
   "outputs": [],
   "source": [
    "%%bash\n",
    "cd variable_study_CHICAGO/\n",
    "ls"
   ]
  },
  {
   "cell_type": "code",
   "execution_count": null,
   "metadata": {
    "scrolled": true
   },
   "outputs": [],
   "source": [
    "%%bash\n",
    "./variable_study/ReadVarsESO"
   ]
  },
  {
   "cell_type": "code",
   "execution_count": null,
   "metadata": {},
   "outputs": [],
   "source": [
    "    data = pd.read_csv('variable_study_CHICAGO/')"
   ]
  },
  {
   "cell_type": "code",
   "execution_count": null,
   "metadata": {},
   "outputs": [],
   "source": [
    "data = eso_to_ts('variable_study_CHICAGO/eplusout.csv')"
   ]
  },
  {
   "cell_type": "code",
   "execution_count": null,
   "metadata": {},
   "outputs": [],
   "source": [
    "winterperiod = ['2000-01-08','2000-01-10']\n",
    "summerperiod= ['2000-08-08','2000-08-10']"
   ]
  },
  {
   "cell_type": "code",
   "execution_count": null,
   "metadata": {},
   "outputs": [],
   "source": [
    "datawinter = data[winterperiod[0]:winterperiod[1]]"
   ]
  },
  {
   "cell_type": "code",
   "execution_count": null,
   "metadata": {},
   "outputs": [],
   "source": [
    "datawinter.plot(title = 'invierno',figsize = (12,5),grid =True).legend(loc = 'upper left',bbox_to_anchor=(1.05, 1))"
   ]
  },
  {
   "cell_type": "code",
   "execution_count": null,
   "metadata": {},
   "outputs": [],
   "source": [
    "winter[[]]"
   ]
  },
  {
   "cell_type": "code",
   "execution_count": null,
   "metadata": {},
   "outputs": [],
   "source": []
  }
 ],
 "metadata": {
  "kernelspec": {
   "display_name": "_ems_",
   "language": "python",
   "name": "_ems_"
  },
  "language_info": {
   "codemirror_mode": {
    "name": "ipython",
    "version": 3
   },
   "file_extension": ".py",
   "mimetype": "text/x-python",
   "name": "python",
   "nbconvert_exporter": "python",
   "pygments_lexer": "ipython3",
   "version": "3.7.10"
  }
 },
 "nbformat": 4,
 "nbformat_minor": 4
}
