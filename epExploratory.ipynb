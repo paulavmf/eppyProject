{
 "cells": [
  {
   "cell_type": "code",
   "execution_count": 1,
   "metadata": {},
   "outputs": [],
   "source": [
    "import ipywidgets as widgets\n",
    "from ipywidgets import interact, interact_manual\n",
    "from helpers.idf_helpers import *\n",
    "from eppy.modeleditor import IDF\n",
    "from IPython.display import display\n",
    "\n",
    "import os"
   ]
  },
  {
   "cell_type": "code",
   "execution_count": 2,
   "metadata": {},
   "outputs": [
    {
     "name": "stdout",
     "output_type": "stream",
     "text": [
      "ejemplos\n",
      "energyplus\n",
      "EnergyPlus-9.4.0-998c4b761e-Linux-Ubuntu18.04-x86_64.sh\n",
      "eppyProject\n",
      "habitat-sim\n",
      "openshs\n",
      "Residential Prototype Building Models  -  siglas guide\n",
      "Residential Prototype Building Models - chicago\n"
     ]
    },
    {
     "name": "stderr",
     "output_type": "stream",
     "text": [
      "bash: línea 3: cd: input: No existe el archivo o el directorio\n"
     ]
    }
   ],
   "source": [
    "%%bash\n",
    "#cd /usr/local/EnergyPlus-9-4-0/ExampleFiles\n",
    "cd ..\n",
    "cd input\n",
    "ls"
   ]
  },
  {
   "cell_type": "code",
   "execution_count": 3,
   "metadata": {},
   "outputs": [],
   "source": [
    "# idffile = '/usr/local/EnergyPlus-9-4-0/ExampleFiles/1ZoneUncontrolled_win_1.idf'\n",
    "# idffile = 'input/demo_simple.idf'\n",
    "idffile = 'input/SF+CZ5A+USA_IL_Chicago-OHare.Intl.AP.725300+hp+crawlspace+IECC_2018.idf'\n",
    "iddfile = '/usr/local/EnergyPlus-8-6-0/Energy+.idd'\n",
    "epwfile = '/home/paula/Documentos/Doctorado/Desarrollo/eppyProject/input/Wheather file/FRA_Paris.Orly.071490_IWEC.epw'\n"
   ]
  },
  {
   "cell_type": "code",
   "execution_count": 4,
   "metadata": {},
   "outputs": [],
   "source": [
    "idf = initialization(idffile, iddfile, epwfile)"
   ]
  },
  {
   "cell_type": "code",
   "execution_count": 5,
   "metadata": {},
   "outputs": [
    {
     "data": {
      "application/vnd.jupyter.widget-view+json": {
       "model_id": "2399562937134279a3740f971e68cc09",
       "version_major": 2,
       "version_minor": 0
      },
      "text/plain": [
       "interactive(children=(Dropdown(description='classes', options={'LEAD INPUT': [], 'SIMULATION DATA': [], 'VERSI…"
      ]
     },
     "metadata": {},
     "output_type": "display_data"
    }
   ],
   "source": [
    "@interact\n",
    "def show_all_classes(classes = idf.idfobjects):\n",
    "    return epobject_to_df(classes)"
   ]
  },
  {
   "cell_type": "code",
   "execution_count": 6,
   "metadata": {
    "scrolled": true
   },
   "outputs": [
    {
     "data": {
      "application/vnd.jupyter.widget-view+json": {
       "model_id": "76e0a8daea334126be33c9163cc7f445",
       "version_major": 2,
       "version_minor": 0
      },
      "text/plain": [
       "interactive(children=(Dropdown(description='classes', options=('VERSION', 'SIMULATIONCONTROL', 'BUILDING', 'SU…"
      ]
     },
     "metadata": {},
     "output_type": "display_data"
    }
   ],
   "source": [
    "@interact\n",
    "def show_not_null_classes(classes = notnullobj(idf)):\n",
    "    return epobject_to_df(idf.idfobjects[classes])"
   ]
  },
  {
   "cell_type": "code",
   "execution_count": null,
   "metadata": {},
   "outputs": [],
   "source": [
    "idf_output = idf.idfobjects['OUTPUT:VARIABLE']"
   ]
  },
  {
   "cell_type": "code",
   "execution_count": null,
   "metadata": {},
   "outputs": [],
   "source": [
    "idf_output"
   ]
  },
  {
   "cell_type": "code",
   "execution_count": null,
   "metadata": {},
   "outputs": [],
   "source": [
    "idf.idfobjects['OUTPUT:VARIABLE'].Variable_Name"
   ]
  },
  {
   "cell_type": "code",
   "execution_count": null,
   "metadata": {},
   "outputs": [],
   "source": []
  },
  {
   "cell_type": "code",
   "execution_count": null,
   "metadata": {
    "scrolled": true
   },
   "outputs": [],
   "source": [
    "%%bash\n",
    "cd /usr/local/EnergyPlus-9-4-0/DataSets/Window5DataFile.dat\n",
    "ls"
   ]
  },
  {
   "cell_type": "code",
   "execution_count": null,
   "metadata": {},
   "outputs": [],
   "source": []
  },
  {
   "cell_type": "code",
   "execution_count": null,
   "metadata": {},
   "outputs": [],
   "source": [
    "# TODO FIELD SETTER TMB PARA SELECCIONAR\n",
    "fieldsetter(idf.idfobjects['CONSTRUCTION:WINDOWDATAFILE'][0],'File_Name','/usr/local/EnergyPlus-9-4-0/DataSets/Window5DataFile.dat')"
   ]
  },
  {
   "cell_type": "code",
   "execution_count": null,
   "metadata": {},
   "outputs": [],
   "source": [
    "idf.run(output_directory = '/home/paula/Documentos/Doctorado/Desarrollo/eppyProject/output/1ZoneUncontrolled_win_1_out')"
   ]
  },
  {
   "cell_type": "code",
   "execution_count": null,
   "metadata": {},
   "outputs": [],
   "source": [
    "%%bash\n",
    "cd output/\n",
    "cd 1ZoneUncontrolled_win_1_out\n",
    "ls\n"
   ]
  }
 ],
 "metadata": {
  "kernelspec": {
   "display_name": "_ep_",
   "language": "python",
   "name": "_ep_"
  },
  "language_info": {
   "codemirror_mode": {
    "name": "ipython",
    "version": 3
   },
   "file_extension": ".py",
   "mimetype": "text/x-python",
   "name": "python",
   "nbconvert_exporter": "python",
   "pygments_lexer": "ipython3",
   "version": "3.6.11"
  }
 },
 "nbformat": 4,
 "nbformat_minor": 4
}
