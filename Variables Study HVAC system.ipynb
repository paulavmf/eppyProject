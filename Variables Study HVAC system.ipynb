{
 "cells": [
  {
   "cell_type": "code",
   "execution_count": 1,
   "metadata": {},
   "outputs": [],
   "source": [
    "from helpers.idf_helpers import *\n",
    "from helpers.plot_helpers import *\n",
    "from studies import run_study\n",
    "\n",
    "import pandas as pd\n",
    "import matplotlib.pyplot as plt\n",
    "import ipywidgets as widgets\n",
    "from ipywidgets import interact, interact_manual, SelectMultiple\n",
    "from eppy.modeleditor import IDF\n",
    "from IPython.display import display\n",
    "\n",
    "import os"
   ]
  },
  {
   "cell_type": "code",
   "execution_count": 2,
   "metadata": {},
   "outputs": [],
   "source": [
    "outputs = pd.read_excel('Output Variables.xlsx')"
   ]
  },
  {
   "cell_type": "code",
   "execution_count": 3,
   "metadata": {},
   "outputs": [],
   "source": [
    "temp = outputs[outputs['Units']=='C']"
   ]
  },
  {
   "cell_type": "code",
   "execution_count": 4,
   "metadata": {},
   "outputs": [
    {
     "data": {
      "application/vnd.jupyter.widget-view+json": {
       "model_id": "a0709b5488d14bc0ac3159d7f54eeea7",
       "version_major": 2,
       "version_minor": 0
      },
      "text/plain": [
       "interactive(children=(Dropdown(description='output', options=('Site Outdoor Air Drybulb Temperature', 'Site Ou…"
      ]
     },
     "metadata": {},
     "output_type": "display_data"
    }
   ],
   "source": [
    "@interact\n",
    "def get_output(output = temp['Output Name']):\n",
    "    return temp[temp['Output Name']==output]"
   ]
  },
  {
   "cell_type": "code",
   "execution_count": 5,
   "metadata": {},
   "outputs": [],
   "source": [
    "var_list = ['Zone Mean Radiant Temperature',\n",
    "            'Zone Mean Air Temperature',\n",
    "            'Zone Operative Temperature',\n",
    "            'Zone Mean Air Dewpoint Temperature',\n",
    "            'Zone Outdoor Air Wetbulb Temperature', \n",
    "            'Zone Air Temperature',\n",
    "            'Zone Thermostat Air Temperature',\n",
    "            'Zone Thermostat Heating Setpoint Temperature',\n",
    "            'Zone Thermostat Cooling Setpoint Temperature',\n",
    "              'Zone Adaptive Comfort Operative Temperature Set Point',\n",
    "           'Zone Heat Index']"
   ]
  },
  {
   "cell_type": "code",
   "execution_count": 6,
   "metadata": {},
   "outputs": [],
   "source": [
    "idffile = '/home/paula/Documentos/Doctorado/Desarrollo/eppyProject/input/simple_room_1_window_1_door_unitary_System_sch_small_office_Activity.idf'\n",
    "iddfile = '/usr/local/EnergyPlus-9-4-0/Energy+.idd'\n",
    "epwfile = '/home/paula/Documentos/Doctorado/Desarrollo/eppyProject/input/Wheather file/FRA_Paris.Orly.071490_IWEC.epw'\n",
    "idf2 = initialization(idffile, iddfile, epwfile)"
   ]
  },
  {
   "cell_type": "code",
   "execution_count": 10,
   "metadata": {},
   "outputs": [
    {
     "data": {
      "application/vnd.jupyter.widget-view+json": {
       "model_id": "f7ff6e96e7544aefbeab533199f615d5",
       "version_major": 2,
       "version_minor": 0
      },
      "text/plain": [
       "interactive(children=(Dropdown(description='classes', options={'VERSION': [\n",
       "Version,\n",
       "    9.4;                 …"
      ]
     },
     "metadata": {},
     "output_type": "display_data"
    }
   ],
   "source": [
    "@interact\n",
    "def show_all_classes(classes = idf2.idfobjects):\n",
    "    return epobject_to_df(classes)"
   ]
  },
  {
   "cell_type": "code",
   "execution_count": 7,
   "metadata": {
    "scrolled": true
   },
   "outputs": [
    {
     "data": {
      "application/vnd.jupyter.widget-view+json": {
       "model_id": "4c73cb4557284ef09cdc838889c1f1e5",
       "version_major": 2,
       "version_minor": 0
      },
      "text/plain": [
       "interactive(children=(Dropdown(description='classes', options=('VERSION', 'SIMULATIONCONTROL', 'BUILDING', 'TI…"
      ]
     },
     "metadata": {},
     "output_type": "display_data"
    }
   ],
   "source": [
    "@interact\n",
    "def show_not_null_classes(classes = notnullobj(idf2)):\n",
    "    return epobject_to_df(idf2.idfobjects[classes])"
   ]
  },
  {
   "cell_type": "markdown",
   "metadata": {},
   "source": [
    "## Correcciones en mi idf"
   ]
  },
  {
   "cell_type": "code",
   "execution_count": 116,
   "metadata": {},
   "outputs": [],
   "source": [
    "#Building from 'SF+CZ5AWH+USA_IL_Chicago-OHare.Intl.AP.725300+hp+crawlspace+IECC_2018'idf2.idfobjects['Building'][0].North_Axis = 0\n",
    "idf2.idfobjects['Building'][0].Terrain = 'Suburbs'\n",
    "idf2.idfobjects['Building'][0].Solar_Distribution = 'FullExterior'\n",
    "idf2.idfobjects['Building'][0].Loads_Convergence_Tolerance_Value = 0.04\n",
    "idf2.idfobjects['Building'][0].Temperature_Convergence_Tolerance_Value = 0.4\n",
    "idf2.idfobjects['Building'][0].Maximum_Number_of_Warmup_Days = 25\n",
    "idf2.idfobjects['Building'][0].Minimum_Number_of_Warmup_Days = 26\n",
    "idf2.idfobjects['SimulationControl'][0].Run_Simulation_for_Sizing_Periods = 'Yes'\n",
    "#WinterDesignDay = idf2.idfobjects['SizingPeriod:DesignDay'][0]\n",
    "#SummerDesignDay = idf2.idfobjects['SizingPeriod:DesignDay'][15]\n",
    "idf2.idfobjects['HVACTemplate:Thermostat'].Heating_Setpoint_Schedule_Name = ''\n",
    "# tengo que quitar la temperatura constante en el que se supone que tiene schedule y poner el schedule en temperatura\n",
    "#borrar el objeto 'SizingPeriod:DesignDay' y añadirle solo estos dos"
   ]
  },
  {
   "cell_type": "code",
   "execution_count": 117,
   "metadata": {},
   "outputs": [],
   "source": [
    "# save\n",
    "idf2.save()"
   ]
  },
  {
   "cell_type": "code",
   "execution_count": 108,
   "metadata": {},
   "outputs": [
    {
     "name": "stdout",
     "output_type": "stream",
     "text": [
      "Directory already exists\n",
      "\r\n",
      "/usr/local/EnergyPlus-9-4-0/energyplus --expandobjects --idd /usr/local/EnergyPlus-9-4-0/Energy+.idd --output-directory /home/paula/Documentos/Doctorado/Desarrollo/eppyProject/variable_study --weather /home/paula/Documentos/Doctorado/Desarrollo/eppyProject/input/Wheather file/FRA_Paris.Orly.071490_IWEC.epw /home/paula/Documentos/Doctorado/Desarrollo/eppyProject/in.idf\r\n",
      "\n"
     ]
    }
   ],
   "source": [
    "idf = idf2\n",
    "objs_to_delete=[]\n",
    "scriptname='variable_study'\n",
    "vars_name=var_list\n",
    "objs_to_delete = ['PEOPLE', 'LIGHTS', 'ELECTRICEQUIPMENT']\n",
    "\n",
    "## tengo que hacer cambios para que esta función también funcione desde jupyter notebook\n",
    "\n",
    "for obj in objs_to_delete:\n",
    "    for o in idf.idfobjects[obj]:\n",
    "        idf.removeidfobject(o)\n",
    "# TODO hacer esto general\n",
    "# hacer un remove de las variables que ya estaban\n",
    "\n",
    "for n in range(len(vars_name)):\n",
    "    idf.newidfobject('OUTPUT:VARIABLE')\n",
    "    idf.idfobjects['OUTPUT:VARIABLE'][n].Variable_Name = vars_name[n]\n",
    "# if idf.idfobjects['HVACTemplate:Thermostat']:\n",
    "#     schedule_name = idf.idfobjects['HVACTemplate:Thermostat'][0].Heating_Setpoint_Schedule_Name\n",
    "#     idf.newidfobject('OUTPUT:VARIABLE')\n",
    "#     idf.idfobjects['OUTPUT:VARIABLE'][-1].Key_Value = schedule_name\n",
    "#     idf.idfobjects['OUTPUT:VARIABLE'][-1].Variable_Name = 'Schedule Value'\n",
    "\n",
    "# newdir = os.path.basename(__file__).replace('.py','')\n",
    "\n",
    "\n",
    "foldername = scriptname.replace('.py', '')\n",
    "\n",
    "try:\n",
    "    os.mkdir(foldername)\n",
    "except FileExistsError:\n",
    "    print(\"Directory already exists\")\n",
    "abs_newdir = '/home/paula/Documentos/Doctorado/Desarrollo/eppyProject/variable_study'\n",
    "#idf.saveas(abs_newdir + '/idffile.idf')\n",
    "idf.run(output_directory=abs_newdir)"
   ]
  },
  {
   "cell_type": "code",
   "execution_count": 78,
   "metadata": {},
   "outputs": [
    {
     "name": "stdout",
     "output_type": "stream",
     "text": [
      " ReadVarsESO program starting.\n",
      " ReadVars Run Time=00hr 00min  0.18sec\n",
      " ReadVarsESO program completed successfully.\n"
     ]
    }
   ],
   "source": [
    "%%bash\n",
    "cd variable_study/\n",
    "./ReadVarsESO"
   ]
  },
  {
   "cell_type": "code",
   "execution_count": 80,
   "metadata": {},
   "outputs": [],
   "source": [
    "data = pd.read_csv('variable_study/eplusout.csv')"
   ]
  },
  {
   "cell_type": "code",
   "execution_count": 82,
   "metadata": {
    "scrolled": true
   },
   "outputs": [
    {
     "data": {
      "text/plain": [
       "9192"
      ]
     },
     "execution_count": 82,
     "metadata": {},
     "output_type": "execute_result"
    }
   ],
   "source": [
    "data"
   ]
  },
  {
   "cell_type": "code",
   "execution_count": 79,
   "metadata": {},
   "outputs": [
    {
     "ename": "Exception",
     "evalue": "dates are duplicated. Impossible to convert to Time Series data frame",
     "output_type": "error",
     "traceback": [
      "\u001b[0;31m---------------------------------------------------------------------------\u001b[0m",
      "\u001b[0;31mException\u001b[0m                                 Traceback (most recent call last)",
      "\u001b[0;32m<ipython-input-79-0a7a8f884124>\u001b[0m in \u001b[0;36m<module>\u001b[0;34m()\u001b[0m\n\u001b[0;32m----> 1\u001b[0;31m \u001b[0mdata\u001b[0m \u001b[0;34m=\u001b[0m \u001b[0meso_to_ts\u001b[0m\u001b[0;34m(\u001b[0m\u001b[0;34m'variable_study/eplusout.csv'\u001b[0m\u001b[0;34m)\u001b[0m\u001b[0;34m\u001b[0m\u001b[0;34m\u001b[0m\u001b[0m\n\u001b[0m",
      "\u001b[0;32m/home/paula/Documentos/Doctorado/Desarrollo/eppyProject/helpers/idf_helpers.py\u001b[0m in \u001b[0;36meso_to_ts\u001b[0;34m(outputfile, drop_duplicateds)\u001b[0m\n\u001b[1;32m    115\u001b[0m         \u001b[0;31m# TODO ENSEÑAR LOS DUPLICADOS O ALGO ASÍ O HACER ESTO CONTANDO LOS VALORES QUE DEBERÍA TENER\u001b[0m\u001b[0;34m\u001b[0m\u001b[0;34m\u001b[0m\u001b[0;34m\u001b[0m\u001b[0m\n\u001b[1;32m    116\u001b[0m     \u001b[0;32mif\u001b[0m \u001b[0msum\u001b[0m\u001b[0;34m(\u001b[0m\u001b[0mdf\u001b[0m\u001b[0;34m[\u001b[0m\u001b[0;34m'Date/Time'\u001b[0m\u001b[0;34m]\u001b[0m\u001b[0;34m.\u001b[0m\u001b[0mduplicated\u001b[0m\u001b[0;34m(\u001b[0m\u001b[0;34m)\u001b[0m\u001b[0;34m)\u001b[0m \u001b[0;34m>\u001b[0m \u001b[0;36m0\u001b[0m\u001b[0;34m:\u001b[0m\u001b[0;34m\u001b[0m\u001b[0;34m\u001b[0m\u001b[0m\n\u001b[0;32m--> 117\u001b[0;31m         \u001b[0;32mraise\u001b[0m \u001b[0mException\u001b[0m\u001b[0;34m(\u001b[0m\u001b[0;34m'dates are duplicated. Impossible to convert to Time Series data frame'\u001b[0m\u001b[0;34m)\u001b[0m\u001b[0;34m\u001b[0m\u001b[0;34m\u001b[0m\u001b[0m\n\u001b[0m\u001b[1;32m    118\u001b[0m     \u001b[0mnew\u001b[0m \u001b[0;34m=\u001b[0m \u001b[0mdf\u001b[0m\u001b[0;34m[\u001b[0m\u001b[0;34m'Date/Time'\u001b[0m\u001b[0;34m]\u001b[0m\u001b[0;34m.\u001b[0m\u001b[0mstr\u001b[0m\u001b[0;34m.\u001b[0m\u001b[0msplit\u001b[0m\u001b[0;34m(\u001b[0m\u001b[0;34m'  '\u001b[0m\u001b[0;34m,\u001b[0m \u001b[0mn\u001b[0m\u001b[0;34m=\u001b[0m\u001b[0;36m1\u001b[0m\u001b[0;34m,\u001b[0m \u001b[0mexpand\u001b[0m\u001b[0;34m=\u001b[0m\u001b[0;32mTrue\u001b[0m\u001b[0;34m)\u001b[0m\u001b[0;34m\u001b[0m\u001b[0;34m\u001b[0m\u001b[0m\n\u001b[1;32m    119\u001b[0m     \u001b[0mnew\u001b[0m\u001b[0;34m[\u001b[0m\u001b[0;36m0\u001b[0m\u001b[0;34m]\u001b[0m \u001b[0;34m=\u001b[0m \u001b[0mnew\u001b[0m\u001b[0;34m[\u001b[0m\u001b[0;36m0\u001b[0m\u001b[0;34m]\u001b[0m\u001b[0;34m.\u001b[0m\u001b[0mstr\u001b[0m\u001b[0;34m.\u001b[0m\u001b[0mreplace\u001b[0m\u001b[0;34m(\u001b[0m\u001b[0;34m'/'\u001b[0m\u001b[0;34m,\u001b[0m \u001b[0;34m'-'\u001b[0m\u001b[0;34m)\u001b[0m \u001b[0;34m+\u001b[0m \u001b[0;34m'-00'\u001b[0m\u001b[0;34m\u001b[0m\u001b[0;34m\u001b[0m\u001b[0m\n",
      "\u001b[0;31mException\u001b[0m: dates are duplicated. Impossible to convert to Time Series data frame"
     ]
    }
   ],
   "source": [
    "data = eso_to_ts('variable_study/eplusout.csv')"
   ]
  },
  {
   "cell_type": "code",
   "execution_count": null,
   "metadata": {},
   "outputs": [],
   "source": [
    "winterperiod = ['2000-01-08','2000-01-10']\n",
    "summerperiod= ['2000-08-08','2000-08-10']"
   ]
  },
  {
   "cell_type": "code",
   "execution_count": null,
   "metadata": {},
   "outputs": [],
   "source": [
    "datawinter = data[winterperiod[0]:winterperiod[1]]"
   ]
  },
  {
   "cell_type": "code",
   "execution_count": null,
   "metadata": {},
   "outputs": [],
   "source": [
    "datawinter.plot(title = 'invierno',figsize = (12,5),grid =True).legend(loc = 'upper left',bbox_to_anchor=(1.05, 1))"
   ]
  },
  {
   "cell_type": "code",
   "execution_count": null,
   "metadata": {},
   "outputs": [],
   "source": [
    "winter[[]]"
   ]
  },
  {
   "cell_type": "code",
   "execution_count": null,
   "metadata": {},
   "outputs": [],
   "source": []
  }
 ],
 "metadata": {
  "kernelspec": {
   "display_name": "_ep_",
   "language": "python",
   "name": "_ep_"
  },
  "language_info": {
   "codemirror_mode": {
    "name": "ipython",
    "version": 3
   },
   "file_extension": ".py",
   "mimetype": "text/x-python",
   "name": "python",
   "nbconvert_exporter": "python",
   "pygments_lexer": "ipython3",
   "version": "3.6.11"
  }
 },
 "nbformat": 4,
 "nbformat_minor": 4
}
