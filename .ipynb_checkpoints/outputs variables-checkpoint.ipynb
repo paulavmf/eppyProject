{
 "cells": [
  {
   "cell_type": "code",
   "execution_count": 1,
   "metadata": {},
   "outputs": [],
   "source": [
    "import pandas as pd"
   ]
  },
  {
   "cell_type": "code",
   "execution_count": 45,
   "metadata": {},
   "outputs": [],
   "source": [
    "data = ppd.read_csv('eplusout.rdd', header= None)"
   ]
  },
  {
   "cell_type": "code",
   "execution_count": 46,
   "metadata": {},
   "outputs": [],
   "source": [
    "data = data[2:]"
   ]
  },
  {
   "cell_type": "code",
   "execution_count": 47,
   "metadata": {
    "scrolled": true
   },
   "outputs": [],
   "source": [
    "data = data.iloc[:,2:4]"
   ]
  },
  {
   "cell_type": "code",
   "execution_count": 48,
   "metadata": {
    "scrolled": true
   },
   "outputs": [
    {
     "data": {
      "text/html": [
       "<div>\n",
       "<style scoped>\n",
       "    .dataframe tbody tr th:only-of-type {\n",
       "        vertical-align: middle;\n",
       "    }\n",
       "\n",
       "    .dataframe tbody tr th {\n",
       "        vertical-align: top;\n",
       "    }\n",
       "\n",
       "    .dataframe thead th {\n",
       "        text-align: right;\n",
       "    }\n",
       "</style>\n",
       "<table border=\"1\" class=\"dataframe\">\n",
       "  <thead>\n",
       "    <tr style=\"text-align: right;\">\n",
       "      <th></th>\n",
       "      <th>2</th>\n",
       "      <th>3</th>\n",
       "    </tr>\n",
       "  </thead>\n",
       "  <tbody>\n",
       "    <tr>\n",
       "      <th>2</th>\n",
       "      <td>Site Outdoor Air Drybulb Temperature</td>\n",
       "      <td>hourly; !- Zone Average [C]</td>\n",
       "    </tr>\n",
       "    <tr>\n",
       "      <th>3</th>\n",
       "      <td>Site Outdoor Air Dewpoint Temperature</td>\n",
       "      <td>hourly; !- Zone Average [C]</td>\n",
       "    </tr>\n",
       "    <tr>\n",
       "      <th>4</th>\n",
       "      <td>Site Outdoor Air Wetbulb Temperature</td>\n",
       "      <td>hourly; !- Zone Average [C]</td>\n",
       "    </tr>\n",
       "    <tr>\n",
       "      <th>5</th>\n",
       "      <td>Site Outdoor Air Humidity Ratio</td>\n",
       "      <td>hourly; !- Zone Average [kgWater/kgDryAir]</td>\n",
       "    </tr>\n",
       "    <tr>\n",
       "      <th>6</th>\n",
       "      <td>Site Outdoor Air Relative Humidity</td>\n",
       "      <td>hourly; !- Zone Average [%]</td>\n",
       "    </tr>\n",
       "    <tr>\n",
       "      <th>...</th>\n",
       "      <td>...</td>\n",
       "      <td>...</td>\n",
       "    </tr>\n",
       "    <tr>\n",
       "      <th>591</th>\n",
       "      <td>Zone Mechanical Ventilation Standard Density V...</td>\n",
       "      <td>hourly; !- HVAC Average [m3/s]</td>\n",
       "    </tr>\n",
       "    <tr>\n",
       "      <th>592</th>\n",
       "      <td>Zone Mechanical Ventilation Standard Density V...</td>\n",
       "      <td>hourly; !- HVAC Sum [m3]</td>\n",
       "    </tr>\n",
       "    <tr>\n",
       "      <th>593</th>\n",
       "      <td>Zone Mechanical Ventilation Current Density Vo...</td>\n",
       "      <td>hourly; !- HVAC Average [m3/s]</td>\n",
       "    </tr>\n",
       "    <tr>\n",
       "      <th>594</th>\n",
       "      <td>Zone Mechanical Ventilation Current Density Vo...</td>\n",
       "      <td>hourly; !- HVAC Sum [m3]</td>\n",
       "    </tr>\n",
       "    <tr>\n",
       "      <th>595</th>\n",
       "      <td>Zone Mechanical Ventilation Air Changes per Hour</td>\n",
       "      <td>hourly; !- HVAC Average [ach]</td>\n",
       "    </tr>\n",
       "  </tbody>\n",
       "</table>\n",
       "<p>594 rows × 2 columns</p>\n",
       "</div>"
      ],
      "text/plain": [
       "                                                     2  \\\n",
       "2                 Site Outdoor Air Drybulb Temperature   \n",
       "3                Site Outdoor Air Dewpoint Temperature   \n",
       "4                 Site Outdoor Air Wetbulb Temperature   \n",
       "5                      Site Outdoor Air Humidity Ratio   \n",
       "6                   Site Outdoor Air Relative Humidity   \n",
       "..                                                 ...   \n",
       "591  Zone Mechanical Ventilation Standard Density V...   \n",
       "592  Zone Mechanical Ventilation Standard Density V...   \n",
       "593  Zone Mechanical Ventilation Current Density Vo...   \n",
       "594  Zone Mechanical Ventilation Current Density Vo...   \n",
       "595   Zone Mechanical Ventilation Air Changes per Hour   \n",
       "\n",
       "                                              3  \n",
       "2                   hourly; !- Zone Average [C]  \n",
       "3                   hourly; !- Zone Average [C]  \n",
       "4                   hourly; !- Zone Average [C]  \n",
       "5    hourly; !- Zone Average [kgWater/kgDryAir]  \n",
       "6                   hourly; !- Zone Average [%]  \n",
       "..                                          ...  \n",
       "591              hourly; !- HVAC Average [m3/s]  \n",
       "592                    hourly; !- HVAC Sum [m3]  \n",
       "593              hourly; !- HVAC Average [m3/s]  \n",
       "594                    hourly; !- HVAC Sum [m3]  \n",
       "595               hourly; !- HVAC Average [ach]  \n",
       "\n",
       "[594 rows x 2 columns]"
      ]
     },
     "execution_count": 48,
     "metadata": {},
     "output_type": "execute_result"
    }
   ],
   "source": [
    "data"
   ]
  },
  {
   "cell_type": "code",
   "execution_count": 52,
   "metadata": {},
   "outputs": [
    {
     "data": {
      "text/plain": [
       "2                     hourly; !- Zone Average [C]\n",
       "3                     hourly; !- Zone Average [C]\n",
       "4                     hourly; !- Zone Average [C]\n",
       "5      hourly; !- Zone Average [kgWater/kgDryAir]\n",
       "6                     hourly; !- Zone Average [%]\n",
       "                          ...                    \n",
       "591                hourly; !- HVAC Average [m3/s]\n",
       "592                      hourly; !- HVAC Sum [m3]\n",
       "593                hourly; !- HVAC Average [m3/s]\n",
       "594                      hourly; !- HVAC Sum [m3]\n",
       "595                 hourly; !- HVAC Average [ach]\n",
       "Name: 3, Length: 594, dtype: object"
      ]
     },
     "execution_count": 52,
     "metadata": {},
     "output_type": "execute_result"
    }
   ],
   "source": [
    "data[3]"
   ]
  },
  {
   "cell_type": "code",
   "execution_count": 56,
   "metadata": {},
   "outputs": [],
   "source": [
    "data[[4,5]] = data[3].str.split('; !-', expand=True)"
   ]
  },
  {
   "cell_type": "code",
   "execution_count": 60,
   "metadata": {},
   "outputs": [],
   "source": [
    "del data[4]"
   ]
  },
  {
   "cell_type": "code",
   "execution_count": 64,
   "metadata": {},
   "outputs": [
    {
     "data": {
      "text/html": [
       "<div>\n",
       "<style scoped>\n",
       "    .dataframe tbody tr th:only-of-type {\n",
       "        vertical-align: middle;\n",
       "    }\n",
       "\n",
       "    .dataframe tbody tr th {\n",
       "        vertical-align: top;\n",
       "    }\n",
       "\n",
       "    .dataframe thead th {\n",
       "        text-align: right;\n",
       "    }\n",
       "</style>\n",
       "<table border=\"1\" class=\"dataframe\">\n",
       "  <thead>\n",
       "    <tr style=\"text-align: right;\">\n",
       "      <th></th>\n",
       "      <th>2</th>\n",
       "      <th>5</th>\n",
       "    </tr>\n",
       "  </thead>\n",
       "  <tbody>\n",
       "    <tr>\n",
       "      <th>2</th>\n",
       "      <td>Site Outdoor Air Drybulb Temperature</td>\n",
       "      <td>Zone Average [C]</td>\n",
       "    </tr>\n",
       "    <tr>\n",
       "      <th>3</th>\n",
       "      <td>Site Outdoor Air Dewpoint Temperature</td>\n",
       "      <td>Zone Average [C]</td>\n",
       "    </tr>\n",
       "    <tr>\n",
       "      <th>4</th>\n",
       "      <td>Site Outdoor Air Wetbulb Temperature</td>\n",
       "      <td>Zone Average [C]</td>\n",
       "    </tr>\n",
       "    <tr>\n",
       "      <th>5</th>\n",
       "      <td>Site Outdoor Air Humidity Ratio</td>\n",
       "      <td>Zone Average [kgWater/kgDryAir]</td>\n",
       "    </tr>\n",
       "    <tr>\n",
       "      <th>6</th>\n",
       "      <td>Site Outdoor Air Relative Humidity</td>\n",
       "      <td>Zone Average [%]</td>\n",
       "    </tr>\n",
       "    <tr>\n",
       "      <th>...</th>\n",
       "      <td>...</td>\n",
       "      <td>...</td>\n",
       "    </tr>\n",
       "    <tr>\n",
       "      <th>591</th>\n",
       "      <td>Zone Mechanical Ventilation Standard Density V...</td>\n",
       "      <td>HVAC Average [m3/s]</td>\n",
       "    </tr>\n",
       "    <tr>\n",
       "      <th>592</th>\n",
       "      <td>Zone Mechanical Ventilation Standard Density V...</td>\n",
       "      <td>HVAC Sum [m3]</td>\n",
       "    </tr>\n",
       "    <tr>\n",
       "      <th>593</th>\n",
       "      <td>Zone Mechanical Ventilation Current Density Vo...</td>\n",
       "      <td>HVAC Average [m3/s]</td>\n",
       "    </tr>\n",
       "    <tr>\n",
       "      <th>594</th>\n",
       "      <td>Zone Mechanical Ventilation Current Density Vo...</td>\n",
       "      <td>HVAC Sum [m3]</td>\n",
       "    </tr>\n",
       "    <tr>\n",
       "      <th>595</th>\n",
       "      <td>Zone Mechanical Ventilation Air Changes per Hour</td>\n",
       "      <td>HVAC Average [ach]</td>\n",
       "    </tr>\n",
       "  </tbody>\n",
       "</table>\n",
       "<p>594 rows × 2 columns</p>\n",
       "</div>"
      ],
      "text/plain": [
       "                                                     2  \\\n",
       "2                 Site Outdoor Air Drybulb Temperature   \n",
       "3                Site Outdoor Air Dewpoint Temperature   \n",
       "4                 Site Outdoor Air Wetbulb Temperature   \n",
       "5                      Site Outdoor Air Humidity Ratio   \n",
       "6                   Site Outdoor Air Relative Humidity   \n",
       "..                                                 ...   \n",
       "591  Zone Mechanical Ventilation Standard Density V...   \n",
       "592  Zone Mechanical Ventilation Standard Density V...   \n",
       "593  Zone Mechanical Ventilation Current Density Vo...   \n",
       "594  Zone Mechanical Ventilation Current Density Vo...   \n",
       "595   Zone Mechanical Ventilation Air Changes per Hour   \n",
       "\n",
       "                                    5  \n",
       "2                    Zone Average [C]  \n",
       "3                    Zone Average [C]  \n",
       "4                    Zone Average [C]  \n",
       "5     Zone Average [kgWater/kgDryAir]  \n",
       "6                    Zone Average [%]  \n",
       "..                                ...  \n",
       "591               HVAC Average [m3/s]  \n",
       "592                     HVAC Sum [m3]  \n",
       "593               HVAC Average [m3/s]  \n",
       "594                     HVAC Sum [m3]  \n",
       "595                HVAC Average [ach]  \n",
       "\n",
       "[594 rows x 2 columns]"
      ]
     },
     "execution_count": 64,
     "metadata": {},
     "output_type": "execute_result"
    }
   ],
   "source": [
    "data"
   ]
  },
  {
   "cell_type": "code",
   "execution_count": 66,
   "metadata": {},
   "outputs": [],
   "source": [
    "data.to_excel('OutputVariables.xlsx')"
   ]
  },
  {
   "cell_type": "code",
   "execution_count": null,
   "metadata": {},
   "outputs": [],
   "source": []
  }
 ],
 "metadata": {
  "kernelspec": {
   "display_name": "_ep",
   "language": "python",
   "name": "_ep"
  },
  "language_info": {
   "codemirror_mode": {
    "name": "ipython",
    "version": 3
   },
   "file_extension": ".py",
   "mimetype": "text/x-python",
   "name": "python",
   "nbconvert_exporter": "python",
   "pygments_lexer": "ipython3",
   "version": "3.8.5"
  }
 },
 "nbformat": 4,
 "nbformat_minor": 4
}
