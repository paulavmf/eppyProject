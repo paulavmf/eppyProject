{
 "cells": [
  {
   "cell_type": "code",
   "execution_count": 2,
   "metadata": {},
   "outputs": [
    {
     "name": "stdout",
     "output_type": "stream",
     "text": [
      "Collecting eppy\n",
      "  Downloading eppy-0.5.57-py2.py3-none-any.whl (866 kB)\n",
      "\u001b[K     |████████████████████████████████| 866 kB 1.3 MB/s eta 0:00:01\n",
      "\u001b[?25hRequirement already satisfied: pyparsing>=2.4.7 in /home/paula/anaconda3/envs/_ems_/lib/python3.7/site-packages (from eppy) (2.4.7)\n",
      "Collecting lxml>=3.8.0\n",
      "  Downloading lxml-4.7.1-cp37-cp37m-manylinux_2_17_x86_64.manylinux2014_x86_64.manylinux_2_24_x86_64.whl (6.4 MB)\n",
      "\u001b[K     |████████████████████████████████| 6.4 MB 10.3 MB/s eta 0:00:01\n",
      "\u001b[?25hCollecting pydot3k\n",
      "  Downloading pydot3k-1.0.17.tar.gz (18 kB)\n",
      "Requirement already satisfied: six>=1.10.0 in /home/paula/anaconda3/envs/_ems_/lib/python3.7/site-packages (from eppy) (1.15.0)\n",
      "Collecting future\n",
      "  Using cached future-0.18.2.tar.gz (829 kB)\n",
      "Collecting tinynumpy>=1.2.1\n",
      "  Downloading tinynumpy-1.2.1.tar.gz (16 kB)\n",
      "Collecting munch>=2.0.2\n",
      "  Using cached munch-2.5.0-py2.py3-none-any.whl (10 kB)\n",
      "Requirement already satisfied: decorator>=4.0.10 in /home/paula/anaconda3/envs/_ems_/lib/python3.7/site-packages (from eppy) (5.0.9)\n",
      "Collecting beautifulsoup4<=4.8.0\n",
      "  Downloading beautifulsoup4-4.8.0-py3-none-any.whl (97 kB)\n",
      "\u001b[K     |████████████████████████████████| 97 kB 5.5 MB/s eta 0:00:011\n",
      "\u001b[?25hCollecting soupsieve>=1.2\n",
      "  Downloading soupsieve-2.3.1-py3-none-any.whl (37 kB)\n",
      "Requirement already satisfied: setuptools in /home/paula/anaconda3/envs/_ems_/lib/python3.7/site-packages (from pydot3k->eppy) (57.4.0)\n",
      "Building wheels for collected packages: tinynumpy, future, pydot3k\n",
      "  Building wheel for tinynumpy (setup.py) ... \u001b[?25ldone\n",
      "\u001b[?25h  Created wheel for tinynumpy: filename=tinynumpy-1.2.1-py3-none-any.whl size=18487 sha256=ba1fe92498578912be165387960b25451452ba2f6f16a5333e90fe43cf6ca7da\n",
      "  Stored in directory: /home/paula/.cache/pip/wheels/5e/16/10/288710b3df5ff3b2dd38e22466c506d96ddde8ca1f4fca6303\n",
      "  Building wheel for future (setup.py) ... \u001b[?25ldone\n",
      "\u001b[?25h  Created wheel for future: filename=future-0.18.2-py3-none-any.whl size=491070 sha256=fa6f6cd68fa53ec79ca3535ea91254715e2ab3b3d22b2aa09788e8fb0c25d11f\n",
      "  Stored in directory: /home/paula/.cache/pip/wheels/56/b0/fe/4410d17b32f1f0c3cf54cdfb2bc04d7b4b8f4ae377e2229ba0\n",
      "  Building wheel for pydot3k (setup.py) ... \u001b[?25ldone\n",
      "\u001b[?25h  Created wheel for pydot3k: filename=pydot3k-1.0.17-py3-none-any.whl size=19040 sha256=394c520bc5c3fd2a1dc18603b448512db3b6459f6fba648e3122aac913b1b69e\n",
      "  Stored in directory: /home/paula/.cache/pip/wheels/40/86/eb/f9b32aa2d81ed9a800bdfef7220c89200052a77254e3376324\n",
      "Successfully built tinynumpy future pydot3k\n",
      "Installing collected packages: soupsieve, tinynumpy, pydot3k, munch, lxml, future, beautifulsoup4, eppy\n",
      "Successfully installed beautifulsoup4-4.8.0 eppy-0.5.57 future-0.18.2 lxml-4.7.1 munch-2.5.0 pydot3k-1.0.17 soupsieve-2.3.1 tinynumpy-1.2.1\n"
     ]
    }
   ],
   "source": [
    "# !pip install eppy"
   ]
  },
  {
   "cell_type": "code",
   "execution_count": 3,
   "metadata": {},
   "outputs": [],
   "source": [
    "import ipywidgets as widgets\n",
    "from ipywidgets import interact, interact_manual\n",
    "from helpers.idf_helpers import *\n",
    "from eppy.modeleditor import IDF\n",
    "from IPython.display import display\n",
    "\n",
    "import os"
   ]
  },
  {
   "cell_type": "code",
   "execution_count": 4,
   "metadata": {},
   "outputs": [
    {
     "name": "stdout",
     "output_type": "stream",
     "text": [
      "ASHRAE_Copyright_and_IWEC_License.txt\n",
      "FRA_Paris.Orly.071490_IWEC.ddy\n",
      "FRA_Paris.Orly.071490_IWEC.epw\n",
      "FRA_Paris.Orly.071490_IWEC_original.ddy\n",
      "FRA_Paris.Orly.071490_IWEC.stat\n"
     ]
    }
   ],
   "source": [
    "%%bash\n",
    "#cd /usr/local/EnergyPlus-9-4-0/ExampleFiles\n",
    "cd input/wheather_file/\n",
    "ls"
   ]
  },
  {
   "cell_type": "code",
   "execution_count": 5,
   "metadata": {},
   "outputs": [
    {
     "name": "stdout",
     "output_type": "stream",
     "text": [
      "USA_CA_San.Francisco.Intl.AP.724940_TMY3.ddy\n",
      "USA_CA_San.Francisco.Intl.AP.724940_TMY3.epw\n",
      "USA_CA_San.Francisco.Intl.AP.724940_TMY3.stat\n",
      "USA_CO_Golden-NREL.724666_TMY3.ddy\n",
      "USA_CO_Golden-NREL.724666_TMY3.epw\n",
      "USA_CO_Golden-NREL.724666_TMY3.stat\n",
      "USA_FL_Tampa.Intl.AP.722110_TMY3.ddy\n",
      "USA_FL_Tampa.Intl.AP.722110_TMY3.epw\n",
      "USA_FL_Tampa.Intl.AP.722110_TMY3.stat\n",
      "USA_IL_Chicago-OHare.Intl.AP.725300_TMY3.ddy\n",
      "USA_IL_Chicago-OHare.Intl.AP.725300_TMY3.epw\n",
      "USA_IL_Chicago-OHare.Intl.AP.725300_TMY3.stat\n",
      "USA_VA_Sterling-Washington.Dulles.Intl.AP.724030_TMY3.ddy\n",
      "USA_VA_Sterling-Washington.Dulles.Intl.AP.724030_TMY3.epw\n",
      "USA_VA_Sterling-Washington.Dulles.Intl.AP.724030_TMY3.stat\n"
     ]
    }
   ],
   "source": [
    "%%bash\n",
    "cd /usr/local/EnergyPlus-9-4-0/WeatherData/\n",
    "ls"
   ]
  },
  {
   "cell_type": "code",
   "execution_count": 6,
   "metadata": {},
   "outputs": [],
   "source": [
    "#idffile = '/usr/local/EnergyPlus-9-4-0/ExampleFiles/1ZoneUncontrolled_win_1.idf'\n",
    "# idffile = 'input/demo_simple.idf'\n",
    "idffile = '/home/paula/Documentos/Doctorado/Desarrollo/rl-cacharreo/Model/1ZoneUncontrolled_win_1.idf'\n",
    "iddfile = '/usr/local/EnergyPlus-9-4-0/Energy+.idd'\n",
    "epwfile = '/usr/local/EnergyPlus-9-4-0/WeatherData/USA_CO_Golden-NREL.724666_TMY3.epw'"
   ]
  },
  {
   "cell_type": "code",
   "execution_count": 7,
   "metadata": {},
   "outputs": [],
   "source": [
    "idf = initialization(idffile, iddfile, epwfile)"
   ]
  },
  {
   "cell_type": "code",
   "execution_count": 8,
   "metadata": {
    "scrolled": true
   },
   "outputs": [
    {
     "data": {
      "application/vnd.jupyter.widget-view+json": {
       "model_id": "0e9ad3dcf77d4aa5aae3e0706c9562ad",
       "version_major": 2,
       "version_minor": 0
      },
      "text/plain": [
       "interactive(children=(Dropdown(description='classes', options={'VERSION': [\n",
       "Version,\n",
       "    9.4;                 …"
      ]
     },
     "metadata": {},
     "output_type": "display_data"
    }
   ],
   "source": [
    "@interact\n",
    "def show_all_classes(classes = idf.idfobjects):\n",
    "    return epobject_to_df(classes)"
   ]
  },
  {
   "cell_type": "code",
   "execution_count": 9,
   "metadata": {
    "scrolled": true
   },
   "outputs": [
    {
     "data": {
      "application/vnd.jupyter.widget-view+json": {
       "model_id": "da4b5aaee1014c96ba5acadf7dd43982",
       "version_major": 2,
       "version_minor": 0
      },
      "text/plain": [
       "interactive(children=(Dropdown(description='classes', options=('VERSION', 'SIMULATIONCONTROL', 'BUILDING', 'SU…"
      ]
     },
     "metadata": {},
     "output_type": "display_data"
    }
   ],
   "source": [
    "@interact\n",
    "def show_not_null_classes(classes = notnullobj(idf)):\n",
    "    return epobject_to_df(idf.idfobjects[classes])"
   ]
  },
  {
   "cell_type": "code",
   "execution_count": null,
   "metadata": {},
   "outputs": [],
   "source": []
  },
  {
   "cell_type": "code",
   "execution_count": 10,
   "metadata": {},
   "outputs": [
    {
     "data": {
      "text/plain": [
       "'9.4'"
      ]
     },
     "execution_count": 10,
     "metadata": {},
     "output_type": "execute_result"
    }
   ],
   "source": [
    "idf.idfobjects['Version'][0].Version_Identifier"
   ]
  },
  {
   "cell_type": "code",
   "execution_count": 11,
   "metadata": {},
   "outputs": [
    {
     "data": {
      "text/plain": [
       "\n",
       "OUTPUT:ENERGYMANAGEMENTSYSTEM,\n",
       "    None,                     !- Actuator Availability Dictionary Reporting\n",
       "    None,                     !- Internal Variable Availability Dictionary Reporting\n",
       "    None;                     !- EMS Runtime Language Debug Output Level"
      ]
     },
     "execution_count": 11,
     "metadata": {},
     "output_type": "execute_result"
    }
   ],
   "source": [
    "idf.newidfobject('Output:EnergyManagementSystem')"
   ]
  },
  {
   "cell_type": "code",
   "execution_count": 12,
   "metadata": {},
   "outputs": [],
   "source": [
    "fieldsetter(idf.idfobjects['Output:EnergyManagementSystem'][0],'Actuator_Availability_Dictionary_Reporting','Verbose')"
   ]
  },
  {
   "cell_type": "code",
   "execution_count": 33,
   "metadata": {},
   "outputs": [],
   "source": [
    "fieldsetter(idf.idfobjects['Output:EnergyManagementSystem'][0],'Internal_Variable_Availability_Dictionary_Reporting','Verbose')"
   ]
  },
  {
   "cell_type": "code",
   "execution_count": 34,
   "metadata": {},
   "outputs": [
    {
     "data": {
      "text/plain": [
       "[\n",
       "OUTPUT:ENERGYMANAGEMENTSYSTEM,\n",
       "    Verbose,                  !- Actuator Availability Dictionary Reporting\n",
       "    Verbose,                  !- Internal Variable Availability Dictionary Reporting\n",
       "    None;                     !- EMS Runtime Language Debug Output Level\n",
       "]"
      ]
     },
     "execution_count": 34,
     "metadata": {},
     "output_type": "execute_result"
    }
   ],
   "source": [
    "idf.idfobjects['Output:EnergyManagementSystem']"
   ]
  },
  {
   "cell_type": "code",
   "execution_count": 35,
   "metadata": {},
   "outputs": [],
   "source": [
    "# TODO FIELD SETTER TMB PARA SELECCIONAR\n",
    "# fieldsetter(idf.idfobjects['CONSTRUCTION:WINDOWDATAFILE'][0],'File_Name','/usr/local/EnergyPlus-9-4-0/DataSets/Window5DataFile.dat')"
   ]
  },
  {
   "cell_type": "code",
   "execution_count": 36,
   "metadata": {},
   "outputs": [
    {
     "name": "stdout",
     "output_type": "stream",
     "text": [
      "\r\n",
      "/usr/local/EnergyPlus-9-4-0/energyplus --idd /usr/local/EnergyPlus-9-4-0/Energy+.idd --output-directory /home/paula/Documentos/Doctorado/Desarrollo/rl-cacharreo/Model/Model-output --weather /usr/local/EnergyPlus-9-4-0/WeatherData/USA_CO_Golden-NREL.724666_TMY3.epw /home/paula/Documentos/Doctorado/Desarrollo/EPProject/in.idf\r\n",
      "\n"
     ]
    }
   ],
   "source": [
    "idf.run(output_directory = '/home/paula/Documentos/Doctorado/Desarrollo/rl-cacharreo/Model/Model-output')"
   ]
  },
  {
   "cell_type": "code",
   "execution_count": null,
   "metadata": {},
   "outputs": [],
   "source": [
    "%%bash\n",
    "cd output/\n",
    "cd 1ZoneUncontrolled_win_1_out\n",
    "ls\n"
   ]
  },
  {
   "cell_type": "code",
   "execution_count": 56,
   "metadata": {},
   "outputs": [],
   "source": [
    "a = None"
   ]
  },
  {
   "cell_type": "code",
   "execution_count": 57,
   "metadata": {},
   "outputs": [],
   "source": [
    "def is_not_none(x):\n",
    "    if a:\n",
    "        return True\n",
    "    else: \n",
    "        return False"
   ]
  },
  {
   "cell_type": "code",
   "execution_count": 58,
   "metadata": {},
   "outputs": [
    {
     "data": {
      "text/plain": [
       "False"
      ]
     },
     "execution_count": 58,
     "metadata": {},
     "output_type": "execute_result"
    }
   ],
   "source": [
    "is_not_none(a)"
   ]
  },
  {
   "cell_type": "code",
   "execution_count": null,
   "metadata": {},
   "outputs": [],
   "source": []
  }
 ],
 "metadata": {
  "kernelspec": {
   "display_name": "_ems_",
   "language": "python",
   "name": "_ems_"
  },
  "language_info": {
   "codemirror_mode": {
    "name": "ipython",
    "version": 3
   },
   "file_extension": ".py",
   "mimetype": "text/x-python",
   "name": "python",
   "nbconvert_exporter": "python",
   "pygments_lexer": "ipython3",
   "version": "3.7.10"
  }
 },
 "nbformat": 4,
 "nbformat_minor": 4
}
