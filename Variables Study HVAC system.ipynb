{
 "cells": [
  {
   "cell_type": "code",
   "execution_count": 11,
   "metadata": {},
   "outputs": [],
   "source": [
    "from helpers.idf_helpers import *\n",
    "from helpers.plot_helpers import *\n",
    "from studies import run_study\n",
    "\n",
    "import pandas as pd\n",
    "import matplotlib.pyplot as plt\n",
    "import ipywidgets as widgets\n",
    "from ipywidgets import interact, interact_manual, SelectMultiple\n",
    "from eppy.modeleditor import IDF\n",
    "from IPython.display import display\n",
    "\n",
    "import os"
   ]
  },
  {
   "cell_type": "code",
   "execution_count": 12,
   "metadata": {},
   "outputs": [],
   "source": [
    "outputs = pd.read_excel('Output Variables.xlsx')"
   ]
  },
  {
   "cell_type": "code",
   "execution_count": 13,
   "metadata": {},
   "outputs": [],
   "source": [
    "temp = outputs[outputs['Units']=='C']"
   ]
  },
  {
   "cell_type": "code",
   "execution_count": 14,
   "metadata": {},
   "outputs": [
    {
     "data": {
      "application/vnd.jupyter.widget-view+json": {
       "model_id": "ec06b12503ff409ea15d5adbf49a8d61",
       "version_major": 2,
       "version_minor": 0
      },
      "text/plain": [
       "interactive(children=(Dropdown(description='output', options=('Site Outdoor Air Drybulb Temperature', 'Site Ou…"
      ]
     },
     "metadata": {},
     "output_type": "display_data"
    }
   ],
   "source": [
    "@interact\n",
    "def get_output(output = temp['Output Name']):\n",
    "    return temp[temp['Output Name']==output]"
   ]
  },
  {
   "cell_type": "code",
   "execution_count": 15,
   "metadata": {},
   "outputs": [],
   "source": [
    "var_list = ['Zone Mean Radiant Temperature',\n",
    "            'Zone Mean Air Temperature',\n",
    "            'Zone Operative Temperature',\n",
    "            'Zone Mean Air Dewpoint Temperature',\n",
    "            'Zone Outdoor Air Wetbulb Temperature', \n",
    "            'Zone Air Temperature',\n",
    "            'Zone Thermostat Air Temperature',\n",
    "            'Zone Thermostat Heating Setpoint Temperature',\n",
    "            'Zone Thermostat Cooling Setpoint Temperature',\n",
    "      '     Zone Adaptive Comfort Operative Temperature Set Point',\n",
    "           'Zone Heat Index']"
   ]
  },
  {
   "cell_type": "code",
   "execution_count": 16,
   "metadata": {},
   "outputs": [],
   "source": [
    "idffile = '/home/paula/Documentos/Doctorado/Desarrollo/eppyProject/input/simple_room_1_window_1_door_unitary_System_sch_constant.idf'\n",
    "iddfile = '/usr/local/EnergyPlus-9-4-0/Energy+.idd'\n",
    "epwfile = '/home/paula/Documentos/Doctorado/Desarrollo/eppyProject/input/Wheather file/FRA_Paris.Orly.071490_IWEC.epw'\n",
    "idf2 = initialization(idffile, iddfile, epwfile)"
   ]
  },
  {
   "cell_type": "code",
   "execution_count": 17,
   "metadata": {
    "scrolled": true
   },
   "outputs": [
    {
     "data": {
      "application/vnd.jupyter.widget-view+json": {
       "model_id": "fbe905bdcba54658b33b7be2b1cc61da",
       "version_major": 2,
       "version_minor": 0
      },
      "text/plain": [
       "interactive(children=(Dropdown(description='classes', options=('VERSION', 'SIMULATIONCONTROL', 'BUILDING', 'TI…"
      ]
     },
     "metadata": {},
     "output_type": "display_data"
    }
   ],
   "source": [
    "@interact\n",
    "def show_not_null_classes(classes = notnullobj(idf2)):\n",
    "    return epobject_to_df(idf2.idfobjects[classes])"
   ]
  },
  {
   "cell_type": "markdown",
   "metadata": {},
   "source": [
    "#### Simulationontrol:\n",
    "Do_Zone_Sizing_Calculation Necesita del objejo Sizing:Zone para funcionar\n",
    "\n",
    "\n",
    "Do_System_Sizing_Calculation Necesita del objejo Sizing:Sytem para funcionar\n",
    "\n",
    "\n",
    "#### Building:\n",
    "\n",
    "...No tengo nada específicado. Quizás debería poner algo más..o no?? xq contra menos variables tenga quizás mejor?\n",
    "\n",
    "\n",
    "\n",
    "\n"
   ]
  },
  {
   "cell_type": "code",
   "execution_count": 18,
   "metadata": {},
   "outputs": [
    {
     "name": "stdout",
     "output_type": "stream",
     "text": [
      "Directory already exists\n",
      "\r\n",
      "/usr/local/EnergyPlus-9-4-0/energyplus --expandobjects --idd /usr/local/EnergyPlus-9-4-0/Energy+.idd --output-directory /home/paula/Documentos/Doctorado/Desarrollo/eppyProject/variable_study --weather /home/paula/Documentos/Doctorado/Desarrollo/eppyProject/input/Wheather file/FRA_Paris.Orly.071490_IWEC.epw /home/paula/Documentos/Doctorado/Desarrollo/eppyProject/in.idf\r\n",
      "\n"
     ]
    },
    {
     "ename": "EnergyPlusRunError",
     "evalue": "\r\n\r\nContents of EnergyPlus error file at /home/paula/Documentos/Doctorado/Desarrollo/eppyProject/variable_study/eplusout.err\r\nProgram Version,EnergyPlus, Version 9.4.0-998c4b761e, YMD=2021.02.23 19:51,\n   ************* Beginning Zone Sizing Calculations\n   ** Warning ** ProcessScheduleInput: Schedule:Constant=\"ALWAYS OFF DISCRETE\", Blank Schedule Type Limits Name input -- will not be validated.\n   ** Warning ** ProcessScheduleInput: Schedule:Constant=\"ALWAYS ON CONTINUOUS\", Blank Schedule Type Limits Name input -- will not be validated.\n   ** Warning ** GetHTSurfaceData: Surfaces with interface to Ground found but no \"Ground Temperatures\" were input.\n   **   ~~~   ** Found first in surface=SURFACE 1\n   **   ~~~   ** Defaults, constant throughout the year of (18.0) will be used.\n   ** Warning ** CheckUsedConstructions: There are 21 nominally unused constructions in input.\n   **   ~~~   ** For explicit details on each unused construction, use Output:Diagnostics,DisplayExtraWarnings;\n   ** Warning ** Calculated design cooling load for zone=THERMAL ZONE 1 is zero.\n   **   ~~~   ** Check Sizing:Zone and ZoneControl:Thermostat inputs.\n   ** Warning ** Calculated design heating load for zone=THERMAL ZONE 1 is zero.\n   **   ~~~   ** Check Sizing:Zone and ZoneControl:Thermostat inputs.\n   ************* Beginning System Sizing Calculations\n   ** Warning ** ManageSizing: Calculated Cooling Design Air Flow Rate for System=SYSTEM 1 is zero.\n   **   ~~~   ** Check Sizing:Zone and ZoneControl:Thermostat inputs.\n   ** Warning ** ManageSizing: Calculated Heating Design Air Flow Rate for System=SYSTEM 1 is zero.\n   **   ~~~   ** Check Sizing:Zone and ZoneControl:Thermostat inputs.\n   ** Severe  ** SizeAirLoopBranches: AirLoopHVAC SYSTEM 1 has air flow less than 1.0000E-003 m3/s.\n   **   ~~~   ** Primary air system volumetric flow rate = 0.0000 m3/s.\n   **   ~~~   ** Check flow rate inputs for components in this air loop and,\n   **   ~~~   ** if autosized, check Sizing:Zone and Sizing:System objects and related inputs.\n   **  Fatal  ** Previous condition causes termination.\n   ...Summary of Errors that led to program termination:\n   ..... Reference severe error count=1\n   ..... Last severe error=SizeAirLoopBranches: AirLoopHVAC SYSTEM 1 has air flow less than 1.0000E-003 m3/s.\n   ************* Warning:  Node connection errors not checked - most system input has not been read (see previous warning).\n   ************* Fatal error -- final processing.  Program exited before simulations began.  See previous error messages.\n   *************\n   ************* ===== Final Error Summary =====\n   ************* The following error categories occurred.  Consider correcting or noting.\n   ************* Nominally Unused Constructions\n   ************* ..The nominally unused constructions warning is provided to alert you to potential conditions that can cause\n   ************* ..extra time during simulation. Each construction is calculated by the algorithm indicated in the HeatBalanceAlgorithm\n   ************* ..object. You may remove the constructions indicated (when you use the DisplayExtraWarnings option).\n   *************\n   ************* EnergyPlus Warmup Error Summary. During Warmup: 0 Warning; 0 Severe Errors.\n   ************* EnergyPlus Sizing Error Summary. During Sizing: 8 Warning; 0 Severe Errors.\n   ************* EnergyPlus Terminated--Fatal Error Detected. 8 Warning; 1 Severe Errors; Elapsed Time=00hr 00min  1.19sec\n",
     "output_type": "error",
     "traceback": [
      "\u001b[0;31m---------------------------------------------------------------------------\u001b[0m",
      "\u001b[0;31mCalledProcessError\u001b[0m                        Traceback (most recent call last)",
      "\u001b[0;32m/home/paula/anaconda3/envs/_ep_/lib/python3.6/site-packages/eppy/runner/run_functions.py\u001b[0m in \u001b[0;36mrun\u001b[0;34m(idf, weather, output_directory, annual, design_day, idd, epmacro, expandobjects, readvars, output_prefix, output_suffix, version, verbose, ep_version)\u001b[0m\n\u001b[1;32m    355\u001b[0m             \u001b[0mprint\u001b[0m\u001b[0;34m(\u001b[0m\u001b[0;34m\"\\r\\n\"\u001b[0m \u001b[0;34m+\u001b[0m \u001b[0;34m\" \"\u001b[0m\u001b[0;34m.\u001b[0m\u001b[0mjoin\u001b[0m\u001b[0;34m(\u001b[0m\u001b[0mcmd\u001b[0m\u001b[0;34m)\u001b[0m \u001b[0;34m+\u001b[0m \u001b[0;34m\"\\r\\n\"\u001b[0m\u001b[0;34m)\u001b[0m\u001b[0;34m\u001b[0m\u001b[0;34m\u001b[0m\u001b[0m\n\u001b[0;32m--> 356\u001b[0;31m             \u001b[0mcheck_call\u001b[0m\u001b[0;34m(\u001b[0m\u001b[0mcmd\u001b[0m\u001b[0;34m)\u001b[0m\u001b[0;34m\u001b[0m\u001b[0;34m\u001b[0m\u001b[0m\n\u001b[0m\u001b[1;32m    357\u001b[0m         \u001b[0;32melif\u001b[0m \u001b[0mverbose\u001b[0m \u001b[0;34m==\u001b[0m \u001b[0;34m\"q\"\u001b[0m\u001b[0;34m:\u001b[0m\u001b[0;34m\u001b[0m\u001b[0;34m\u001b[0m\u001b[0m\n",
      "\u001b[0;32m/home/paula/anaconda3/envs/_ep_/lib/python3.6/subprocess.py\u001b[0m in \u001b[0;36mcheck_call\u001b[0;34m(*popenargs, **kwargs)\u001b[0m\n\u001b[1;32m    310\u001b[0m             \u001b[0mcmd\u001b[0m \u001b[0;34m=\u001b[0m \u001b[0mpopenargs\u001b[0m\u001b[0;34m[\u001b[0m\u001b[0;36m0\u001b[0m\u001b[0;34m]\u001b[0m\u001b[0;34m\u001b[0m\u001b[0;34m\u001b[0m\u001b[0m\n\u001b[0;32m--> 311\u001b[0;31m         \u001b[0;32mraise\u001b[0m \u001b[0mCalledProcessError\u001b[0m\u001b[0;34m(\u001b[0m\u001b[0mretcode\u001b[0m\u001b[0;34m,\u001b[0m \u001b[0mcmd\u001b[0m\u001b[0;34m)\u001b[0m\u001b[0;34m\u001b[0m\u001b[0;34m\u001b[0m\u001b[0m\n\u001b[0m\u001b[1;32m    312\u001b[0m     \u001b[0;32mreturn\u001b[0m \u001b[0;36m0\u001b[0m\u001b[0;34m\u001b[0m\u001b[0;34m\u001b[0m\u001b[0m\n",
      "\u001b[0;31mCalledProcessError\u001b[0m: Command '['/usr/local/EnergyPlus-9-4-0/energyplus', '--expandobjects', '--idd', '/usr/local/EnergyPlus-9-4-0/Energy+.idd', '--output-directory', '/home/paula/Documentos/Doctorado/Desarrollo/eppyProject/variable_study', '--weather', '/home/paula/Documentos/Doctorado/Desarrollo/eppyProject/input/Wheather file/FRA_Paris.Orly.071490_IWEC.epw', '/home/paula/Documentos/Doctorado/Desarrollo/eppyProject/in.idf']' returned non-zero exit status 1.",
      "\nDuring handling of the above exception, another exception occurred:\n",
      "\u001b[0;31mEnergyPlusRunError\u001b[0m                        Traceback (most recent call last)",
      "\u001b[0;32m<ipython-input-18-6e053c3f38b4>\u001b[0m in \u001b[0;36m<module>\u001b[0;34m()\u001b[0m\n\u001b[1;32m     33\u001b[0m \u001b[0mabs_newdir\u001b[0m \u001b[0;34m=\u001b[0m \u001b[0;34m'/home/paula/Documentos/Doctorado/Desarrollo/eppyProject/variable_study'\u001b[0m\u001b[0;34m\u001b[0m\u001b[0;34m\u001b[0m\u001b[0m\n\u001b[1;32m     34\u001b[0m \u001b[0;31m#idf.saveas(abs_newdir + '/idffile.idf')\u001b[0m\u001b[0;34m\u001b[0m\u001b[0;34m\u001b[0m\u001b[0;34m\u001b[0m\u001b[0m\n\u001b[0;32m---> 35\u001b[0;31m \u001b[0midf\u001b[0m\u001b[0;34m.\u001b[0m\u001b[0mrun\u001b[0m\u001b[0;34m(\u001b[0m\u001b[0moutput_directory\u001b[0m\u001b[0;34m=\u001b[0m\u001b[0mabs_newdir\u001b[0m\u001b[0;34m)\u001b[0m\u001b[0;34m\u001b[0m\u001b[0;34m\u001b[0m\u001b[0m\n\u001b[0m",
      "\u001b[0;32m/home/paula/anaconda3/envs/_ep_/lib/python3.6/site-packages/eppy/modeleditor.py\u001b[0m in \u001b[0;36mrun\u001b[0;34m(self, **kwargs)\u001b[0m\n\u001b[1;32m   1008\u001b[0m         \u001b[0mepw\u001b[0m \u001b[0;34m=\u001b[0m \u001b[0mkwargs\u001b[0m\u001b[0;34m.\u001b[0m\u001b[0mpop\u001b[0m\u001b[0;34m(\u001b[0m\u001b[0;34m\"weather\"\u001b[0m\u001b[0;34m,\u001b[0m \u001b[0mself\u001b[0m\u001b[0;34m.\u001b[0m\u001b[0mepw\u001b[0m\u001b[0;34m)\u001b[0m\u001b[0;34m\u001b[0m\u001b[0;34m\u001b[0m\u001b[0m\n\u001b[1;32m   1009\u001b[0m         \u001b[0;32mtry\u001b[0m\u001b[0;34m:\u001b[0m\u001b[0;34m\u001b[0m\u001b[0;34m\u001b[0m\u001b[0m\n\u001b[0;32m-> 1010\u001b[0;31m             \u001b[0mrun\u001b[0m\u001b[0;34m(\u001b[0m\u001b[0mself\u001b[0m\u001b[0;34m,\u001b[0m \u001b[0mweather\u001b[0m\u001b[0;34m=\u001b[0m\u001b[0mepw\u001b[0m\u001b[0;34m,\u001b[0m \u001b[0midd\u001b[0m\u001b[0;34m=\u001b[0m\u001b[0midd\u001b[0m\u001b[0;34m,\u001b[0m \u001b[0;34m**\u001b[0m\u001b[0mkwargs\u001b[0m\u001b[0;34m)\u001b[0m\u001b[0;34m\u001b[0m\u001b[0;34m\u001b[0m\u001b[0m\n\u001b[0m\u001b[1;32m   1011\u001b[0m         \u001b[0;32mfinally\u001b[0m\u001b[0;34m:\u001b[0m\u001b[0;34m\u001b[0m\u001b[0;34m\u001b[0m\u001b[0m\n\u001b[1;32m   1012\u001b[0m             \u001b[0mos\u001b[0m\u001b[0;34m.\u001b[0m\u001b[0mremove\u001b[0m\u001b[0;34m(\u001b[0m\u001b[0;34m\"in.idf\"\u001b[0m\u001b[0;34m)\u001b[0m\u001b[0;34m\u001b[0m\u001b[0;34m\u001b[0m\u001b[0m\n",
      "\u001b[0;32m/home/paula/anaconda3/envs/_ep_/lib/python3.6/site-packages/eppy/runner/run_functions.py\u001b[0m in \u001b[0;36mrun\u001b[0;34m(idf, weather, output_directory, annual, design_day, idd, epmacro, expandobjects, readvars, output_prefix, output_suffix, version, verbose, ep_version)\u001b[0m\n\u001b[1;32m    359\u001b[0m     \u001b[0;32mexcept\u001b[0m \u001b[0mCalledProcessError\u001b[0m\u001b[0;34m:\u001b[0m\u001b[0;34m\u001b[0m\u001b[0;34m\u001b[0m\u001b[0m\n\u001b[1;32m    360\u001b[0m         \u001b[0mmessage\u001b[0m \u001b[0;34m=\u001b[0m \u001b[0mparse_error\u001b[0m\u001b[0;34m(\u001b[0m\u001b[0mtmp_err\u001b[0m\u001b[0;34m,\u001b[0m \u001b[0moutput_dir\u001b[0m\u001b[0;34m)\u001b[0m\u001b[0;34m\u001b[0m\u001b[0;34m\u001b[0m\u001b[0m\n\u001b[0;32m--> 361\u001b[0;31m         \u001b[0;32mraise\u001b[0m \u001b[0mEnergyPlusRunError\u001b[0m\u001b[0;34m(\u001b[0m\u001b[0mmessage\u001b[0m\u001b[0;34m)\u001b[0m\u001b[0;34m\u001b[0m\u001b[0;34m\u001b[0m\u001b[0m\n\u001b[0m\u001b[1;32m    362\u001b[0m     \u001b[0;32mfinally\u001b[0m\u001b[0;34m:\u001b[0m\u001b[0;34m\u001b[0m\u001b[0;34m\u001b[0m\u001b[0m\n\u001b[1;32m    363\u001b[0m         \u001b[0msys\u001b[0m\u001b[0;34m.\u001b[0m\u001b[0mstderr\u001b[0m \u001b[0;34m=\u001b[0m \u001b[0msys\u001b[0m\u001b[0;34m.\u001b[0m\u001b[0m__stderr__\u001b[0m\u001b[0;34m\u001b[0m\u001b[0;34m\u001b[0m\u001b[0m\n",
      "\u001b[0;31mEnergyPlusRunError\u001b[0m: \r\n\r\nContents of EnergyPlus error file at /home/paula/Documentos/Doctorado/Desarrollo/eppyProject/variable_study/eplusout.err\r\nProgram Version,EnergyPlus, Version 9.4.0-998c4b761e, YMD=2021.02.23 19:51,\n   ************* Beginning Zone Sizing Calculations\n   ** Warning ** ProcessScheduleInput: Schedule:Constant=\"ALWAYS OFF DISCRETE\", Blank Schedule Type Limits Name input -- will not be validated.\n   ** Warning ** ProcessScheduleInput: Schedule:Constant=\"ALWAYS ON CONTINUOUS\", Blank Schedule Type Limits Name input -- will not be validated.\n   ** Warning ** GetHTSurfaceData: Surfaces with interface to Ground found but no \"Ground Temperatures\" were input.\n   **   ~~~   ** Found first in surface=SURFACE 1\n   **   ~~~   ** Defaults, constant throughout the year of (18.0) will be used.\n   ** Warning ** CheckUsedConstructions: There are 21 nominally unused constructions in input.\n   **   ~~~   ** For explicit details on each unused construction, use Output:Diagnostics,DisplayExtraWarnings;\n   ** Warning ** Calculated design cooling load for zone=THERMAL ZONE 1 is zero.\n   **   ~~~   ** Check Sizing:Zone and ZoneControl:Thermostat inputs.\n   ** Warning ** Calculated design heating load for zone=THERMAL ZONE 1 is zero.\n   **   ~~~   ** Check Sizing:Zone and ZoneControl:Thermostat inputs.\n   ************* Beginning System Sizing Calculations\n   ** Warning ** ManageSizing: Calculated Cooling Design Air Flow Rate for System=SYSTEM 1 is zero.\n   **   ~~~   ** Check Sizing:Zone and ZoneControl:Thermostat inputs.\n   ** Warning ** ManageSizing: Calculated Heating Design Air Flow Rate for System=SYSTEM 1 is zero.\n   **   ~~~   ** Check Sizing:Zone and ZoneControl:Thermostat inputs.\n   ** Severe  ** SizeAirLoopBranches: AirLoopHVAC SYSTEM 1 has air flow less than 1.0000E-003 m3/s.\n   **   ~~~   ** Primary air system volumetric flow rate = 0.0000 m3/s.\n   **   ~~~   ** Check flow rate inputs for components in this air loop and,\n   **   ~~~   ** if autosized, check Sizing:Zone and Sizing:System objects and related inputs.\n   **  Fatal  ** Previous condition causes termination.\n   ...Summary of Errors that led to program termination:\n   ..... Reference severe error count=1\n   ..... Last severe error=SizeAirLoopBranches: AirLoopHVAC SYSTEM 1 has air flow less than 1.0000E-003 m3/s.\n   ************* Warning:  Node connection errors not checked - most system input has not been read (see previous warning).\n   ************* Fatal error -- final processing.  Program exited before simulations began.  See previous error messages.\n   *************\n   ************* ===== Final Error Summary =====\n   ************* The following error categories occurred.  Consider correcting or noting.\n   ************* Nominally Unused Constructions\n   ************* ..The nominally unused constructions warning is provided to alert you to potential conditions that can cause\n   ************* ..extra time during simulation. Each construction is calculated by the algorithm indicated in the HeatBalanceAlgorithm\n   ************* ..object. You may remove the constructions indicated (when you use the DisplayExtraWarnings option).\n   *************\n   ************* EnergyPlus Warmup Error Summary. During Warmup: 0 Warning; 0 Severe Errors.\n   ************* EnergyPlus Sizing Error Summary. During Sizing: 8 Warning; 0 Severe Errors.\n   ************* EnergyPlus Terminated--Fatal Error Detected. 8 Warning; 1 Severe Errors; Elapsed Time=00hr 00min  1.19sec\n"
     ]
    }
   ],
   "source": [
    "idf = idf2\n",
    "objs_to_delete=[]\n",
    "scriptname='variable_study'\n",
    "vars_name=var_list\n",
    "objs_to_delete = ['PEOPLE', 'LIGHTS', 'ELECTRICEQUIPMENT']\n",
    "\n",
    "## tengo que hacer cambios para que esta función también funcione desde jupyter notebook\n",
    "\n",
    "for obj in objs_to_delete:\n",
    "    for o in idf.idfobjects[obj]:\n",
    "        idf.removeidfobject(o)\n",
    "# TODO hacer esto general\n",
    "# hacer un remove de las variables que ya estaban\n",
    "\n",
    "for n in range(len(vars_name)):\n",
    "    idf.newidfobject('OUTPUT:VARIABLE')\n",
    "    idf.idfobjects['OUTPUT:VARIABLE'][n].Variable_Name = vars_name[n]\n",
    "# if idf.idfobjects['HVACTemplate:Thermostat']:\n",
    "#     schedule_name = idf.idfobjects['HVACTemplate:Thermostat'][0].Heating_Setpoint_Schedule_Name\n",
    "#     idf.newidfobject('OUTPUT:VARIABLE')\n",
    "#     idf.idfobjects['OUTPUT:VARIABLE'][-1].Key_Value = schedule_name\n",
    "#     idf.idfobjects['OUTPUT:VARIABLE'][-1].Variable_Name = 'Schedule Value'\n",
    "\n",
    "# newdir = os.path.basename(__file__).replace('.py','')\n",
    "\n",
    "\n",
    "foldername = scriptname.replace('.py', '')\n",
    "\n",
    "try:\n",
    "    os.mkdir(foldername)\n",
    "except FileExistsError:\n",
    "    print(\"Directory already exists\")\n",
    "abs_newdir = '/home/paula/Documentos/Doctorado/Desarrollo/eppyProject/variable_study'\n",
    "#idf.saveas(abs_newdir + '/idffile.idf')\n",
    "idf.run(output_directory=abs_newdir)"
   ]
  },
  {
   "cell_type": "code",
   "execution_count": null,
   "metadata": {},
   "outputs": [],
   "source": [
    "%%bash\n",
    "cp studies/ReadVarsESO variable_study/\n"
   ]
  },
  {
   "cell_type": "code",
   "execution_count": null,
   "metadata": {},
   "outputs": [],
   "source": [
    "%%bash\n",
    "ls variable_study/"
   ]
  },
  {
   "cell_type": "code",
   "execution_count": null,
   "metadata": {},
   "outputs": [],
   "source": [
    "%%bash\n",
    "./variable_study/ReadVarsESO"
   ]
  },
  {
   "cell_type": "code",
   "execution_count": null,
   "metadata": {},
   "outputs": [],
   "source": [
    "data = eso_to_ts('variable_study/eplusout.csv')"
   ]
  },
  {
   "cell_type": "code",
   "execution_count": null,
   "metadata": {},
   "outputs": [],
   "source": [
    "winterperiod = ['2000-01-08','2000-01-10']\n",
    "summerperiod= ['2000-08-08','2000-08-10']"
   ]
  },
  {
   "cell_type": "code",
   "execution_count": null,
   "metadata": {},
   "outputs": [],
   "source": [
    "datawinter = data[winterperiod[0]:winterperiod[1]]"
   ]
  },
  {
   "cell_type": "code",
   "execution_count": null,
   "metadata": {},
   "outputs": [],
   "source": [
    "datawinter.plot(title = 'invierno',figsize = (12,5),grid =True).legend(loc = 'upper left',bbox_to_anchor=(1.05, 1))"
   ]
  },
  {
   "cell_type": "code",
   "execution_count": null,
   "metadata": {},
   "outputs": [],
   "source": [
    "winter[[]]"
   ]
  },
  {
   "cell_type": "code",
   "execution_count": null,
   "metadata": {},
   "outputs": [],
   "source": []
  }
 ],
 "metadata": {
  "kernelspec": {
   "display_name": "_ep_",
   "language": "python",
   "name": "_ep_"
  },
  "language_info": {
   "codemirror_mode": {
    "name": "ipython",
    "version": 3
   },
   "file_extension": ".py",
   "mimetype": "text/x-python",
   "name": "python",
   "nbconvert_exporter": "python",
   "pygments_lexer": "ipython3",
   "version": "3.6.11"
  }
 },
 "nbformat": 4,
 "nbformat_minor": 4
}
