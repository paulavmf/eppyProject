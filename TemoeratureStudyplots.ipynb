{
 "cells": [
  {
   "cell_type": "code",
   "execution_count": 1,
   "metadata": {},
   "outputs": [],
   "source": [
    "import pandas as pd\n",
    "from helpers.idf_helpers import *\n",
    "from helpers.plot_helpers import *\n",
    "import matplotlib.pyplot as plt\n",
    "\n",
    "import ipywidgets as widgets\n",
    "from ipywidgets import interact, interact_manual\n",
    "from eppy.modeleditor import IDF\n",
    "from IPython.display import display\n",
    "\n",
    "import os"
   ]
  },
  {
   "cell_type": "markdown",
   "metadata": {},
   "source": [
    "para ver como manipular fechas en time series:\n",
    "\n",
    "https://towardsdatascience.com/basic-time-series-manipulation-with-pandas-4432afee64ea"
   ]
  },
  {
   "cell_type": "code",
   "execution_count": 2,
   "metadata": {},
   "outputs": [],
   "source": [
    "winterperiod = ['2000-01-08','2000-01-10']\n",
    "summerperiod= ['2000-08-08','2000-08-10']"
   ]
  },
  {
   "cell_type": "code",
   "execution_count": 3,
   "metadata": {},
   "outputs": [],
   "source": [
    "# 'metodos de isolación o HVAC - cargas'\n",
    "title1 = 'walls'\n",
    "title2 = 'walls, HVAC'\n",
    "title3 = 'walls - people'\n",
    "title3_1 = 'walls - people,lights,EE'\n",
    "title4 = 'walls, always on HVAC  - people'\n",
    "title5 = 'walls, always on HVAC - people,lights,EE'\n",
    "title6 =  'walls, Thermostat sched HVAC - people,lights,EE'\n",
    "title7 =  'walls, No Thermostat sched HVAC - people,lights,EE'"
   ]
  },
  {
   "cell_type": "markdown",
   "metadata": {},
   "source": [
    "----------------------------------"
   ]
  },
  {
   "cell_type": "markdown",
   "metadata": {},
   "source": [
    "__TemperatureStudy1__:\n",
    "\n",
    "- PEOPLE: NO\n",
    "- LIGHTS: NO\n",
    "- ELECTRICEQUIPMENT: NO\n",
    "- AIRCONDITIONER: NO\n"
   ]
  },
  {
   "cell_type": "code",
   "execution_count": 4,
   "metadata": {},
   "outputs": [
    {
     "data": {
      "application/vnd.jupyter.widget-view+json": {
       "model_id": "fef89bc2c6c54e42ab71b4af30603c6c",
       "version_major": 2,
       "version_minor": 0
      },
      "text/plain": [
       "interactive(children=(Dropdown(description='classes', options=('VERSION', 'SIMULATIONCONTROL', 'BUILDING', 'TI…"
      ]
     },
     "metadata": {},
     "output_type": "display_data"
    }
   ],
   "source": [
    "data1 = eso_to_ts('studies/TemperatureStudy1/eplusout.csv')\n",
    "\n",
    "idffile = 'studies/TemperatureStudy1/idffile.idf'\n",
    "iddfile = '/usr/local/EnergyPlus-9-4-0/Energy+.idd'\n",
    "epwfile = '/home/paula/Documentos/Doctorado/Desarrollo/eppyProject/input/Wheather file/FRA_Paris.Orly.071490_IWEC.epw'\n",
    "idf1 = initialization(idffile, iddfile, epwfile)\n",
    "@interact\n",
    "def show_not_null_classes(classes = notnullobj(idf1)):\n",
    "    return epobject_to_df(idf1.idfobjects[classes])"
   ]
  },
  {
   "cell_type": "markdown",
   "metadata": {},
   "source": [
    "------------------------"
   ]
  },
  {
   "cell_type": "markdown",
   "metadata": {},
   "source": [
    "__TemperatureStudy2__:\n",
    "\n",
    "- PEOPLE: NO\n",
    "- LIGHTS: NO\n",
    "- ELECTRICEQUIPMENT: NO\n",
    "- AIRCONDITIONER: SÍ\n",
    "  - DATOS:\n",
    "              key \tHVACTemplate:Thermostat\n",
    "              Name \tthermostat 1\n",
    "              Heating_Setpoint_Schedule_Name \tAlways On Continuous\n",
    "              Constant_Heating_Setpoint \t15\n",
    "              Cooling_Setpoint_Schedule_Name \t\n",
    "              Constant_Cooling_Setpoint \t25\n"
   ]
  },
  {
   "cell_type": "code",
   "execution_count": 5,
   "metadata": {
    "scrolled": false
   },
   "outputs": [
    {
     "data": {
      "text/plain": [
       "<AxesSubplot:title={'center':'funcionamiento del sistema de refrigeración'}, xlabel='Date/Time'>"
      ]
     },
     "execution_count": 5,
     "metadata": {},
     "output_type": "execute_result"
    },
    {
     "data": {
      "image/png": "[encoded data removed]",
      "text/plain": [
       "<Figure size 432x288 with 1 Axes>"
      ]
     },
     "metadata": {
      "needs_background": "light"
     },
     "output_type": "display_data"
    }
   ],
   "source": [
    "data2 = eso_to_ts('/home/paula/Documentos/Doctorado/Desarrollo/eppyProject/studies/TemperatureStudy2/eplusout.csv')\n",
    "idffile = 'studies/TemperatureStudy2/idffile.idf'\n",
    "iddfile = '/usr/local/EnergyPlus-9-4-0/Energy+.idd'\n",
    "epwfile = '/home/paula/Documentos/Doctorado/Desarrollo/eppyProject/input/Wheather file/FRA_Paris.Orly.071490_IWEC.epw'\n",
    "idf2 = initialization(idffile, iddfile, epwfile)\n",
    "data2['2000-01-01'].iloc[:,2].plot(title = 'funcionamiento del sistema de refrigeración')"
   ]
  },
  {
   "cell_type": "code",
   "execution_count": 6,
   "metadata": {
    "scrolled": false
   },
   "outputs": [
    {
     "data": {
      "application/vnd.jupyter.widget-view+json": {
       "model_id": "5e02faa671794387b35ba37931b71e2f",
       "version_major": 2,
       "version_minor": 0
      },
      "text/plain": [
       "interactive(children=(Dropdown(description='classes', options=('VERSION', 'SIMULATIONCONTROL', 'BUILDING', 'TI…"
      ]
     },
     "metadata": {},
     "output_type": "display_data"
    }
   ],
   "source": [
    "@interact\n",
    "def show_not_null_classes(classes = notnullobj(idf2)):\n",
    "    return epobject_to_df(idf2.idfobjects[classes])"
   ]
  },
  {
   "cell_type": "markdown",
   "metadata": {},
   "source": [
    "----------------------------"
   ]
  },
  {
   "cell_type": "markdown",
   "metadata": {},
   "source": [
    "__TemperatureStudy3__:\n",
    "\n",
    "- PEOPLE: SÍ\n",
    "- LIGHTS: NO\n",
    "- ELECTRICEQUIPMENT: NO\n",
    "- AIRCONDITIONER: NO\n"
   ]
  },
  {
   "cell_type": "code",
   "execution_count": 7,
   "metadata": {
    "scrolled": true
   },
   "outputs": [
    {
     "data": {
      "application/vnd.jupyter.widget-view+json": {
       "model_id": "6cc252022c1d49ffbc062cce73bb1691",
       "version_major": 2,
       "version_minor": 0
      },
      "text/plain": [
       "interactive(children=(Dropdown(description='classes', options=('VERSION', 'SIMULATIONCONTROL', 'BUILDING', 'TI…"
      ]
     },
     "metadata": {},
     "output_type": "display_data"
    }
   ],
   "source": [
    "data3 = eso_to_ts('studies/TemperatureStudy3/eplusout.csv')\n",
    "idffile = 'studies/TemperatureStudy3/idffile.idf'\n",
    "iddfile = '/usr/local/EnergyPlus-9-4-0/Energy+.idd'\n",
    "epwfile = '/home/paula/Documentos/Doctorado/Desarrollo/eppyProject/input/Wheather file/FRA_Paris.Orly.071490_IWEC.epw'\n",
    "idf3 = initialization(idffile, iddfile, epwfile)\n",
    "@interact\n",
    "def show_not_null_classes(classes = notnullobj(idf3)):\n",
    "    return epobject_to_df(idf3.idfobjects[classes])"
   ]
  },
  {
   "cell_type": "markdown",
   "metadata": {},
   "source": [
    "__TemperatureStudy3.1__:\n",
    "\n",
    "- PEOPLE: SÍ\n",
    "- LIGHTS: SÍ\n",
    "- ELECTRICEQUIPMENT: SÍ\n",
    "- AIRCONDITIONER: NO"
   ]
  },
  {
   "cell_type": "code",
   "execution_count": 8,
   "metadata": {},
   "outputs": [
    {
     "data": {
      "application/vnd.jupyter.widget-view+json": {
       "model_id": "27d17a408c194d12b72afb3acb76978f",
       "version_major": 2,
       "version_minor": 0
      },
      "text/plain": [
       "interactive(children=(Dropdown(description='classes', options=('VERSION', 'SIMULATIONCONTROL', 'BUILDING', 'TI…"
      ]
     },
     "metadata": {},
     "output_type": "display_data"
    }
   ],
   "source": [
    "data3_1 = eso_to_ts('studies/TemperatureStudy3_1/eplusout.csv')\n",
    "idffile = 'studies/TemperatureStudy3/idffile.idf'\n",
    "iddfile = '/usr/local/EnergyPlus-9-4-0/Energy+.idd'\n",
    "epwfile = '/home/paula/Documentos/Doctorado/Desarrollo/eppyProject/input/Wheather file/FRA_Paris.Orly.071490_IWEC.epw'\n",
    "idf3_1 = initialization(idffile, iddfile, epwfile)\n",
    "@interact\n",
    "def show_not_null_classes(classes = notnullobj(idf3_1)):\n",
    "    return epobject_to_df(idf3_1.idfobjects[classes])"
   ]
  },
  {
   "cell_type": "markdown",
   "metadata": {},
   "source": [
    "---------------------------"
   ]
  },
  {
   "cell_type": "markdown",
   "metadata": {},
   "source": [
    "__TemperatureStudy4__:\n",
    "\n",
    "- PEOPLE: SÍ\n",
    "- LIGHTS: NO\n",
    "- ELECTRICEQUIPMENT: NO\n",
    "- AIRCONDITIONER: SÍ\n",
    "  - DATOS:\n",
    "              key \tHVACTemplate:Thermostat\n",
    "              Name \tthermostat 1\n",
    "              Heating_Setpoint_Schedule_Name \tAlways On Continuous\n",
    "              Constant_Heating_Setpoint \t15\n",
    "              Cooling_Setpoint_Schedule_Name \t\n",
    "              Constant_Cooling_Setpoint \t25"
   ]
  },
  {
   "cell_type": "code",
   "execution_count": 9,
   "metadata": {},
   "outputs": [],
   "source": [
    "idffile = 'studies/TemperatureStudy4/idffile.idf'\n",
    "iddfile = '/usr/local/EnergyPlus-9-4-0/Energy+.idd'\n",
    "epwfile = '/home/paula/Documentos/Doctorado/Desarrollo/eppyProject/input/Wheather file/FRA_Paris.Orly.071490_IWEC.epw'\n",
    "idf4 = initialization(idffile,iddfile,epwfile)\n",
    "data4 = eso_to_ts('studies/TemperatureStudy4/eplusout.csv')"
   ]
  },
  {
   "cell_type": "code",
   "execution_count": 10,
   "metadata": {},
   "outputs": [
    {
     "data": {
      "application/vnd.jupyter.widget-view+json": {
       "model_id": "7803b2a55dc943299d48821fe6677031",
       "version_major": 2,
       "version_minor": 0
      },
      "text/plain": [
       "interactive(children=(Dropdown(description='classes', options=('VERSION', 'SIMULATIONCONTROL', 'BUILDING', 'TI…"
      ]
     },
     "metadata": {},
     "output_type": "display_data"
    }
   ],
   "source": [
    "@interact\n",
    "def show_not_null_classes(classes = notnullobj(idf4)):\n",
    "    return epobject_to_df(idf4.idfobjects[classes])"
   ]
  },
  {
   "cell_type": "markdown",
   "metadata": {},
   "source": [
    "__TemperatureStudy5__:\n",
    "\n",
    "- PEOPLE: SÍ\n",
    "- LIGHTS: SÍ\n",
    "- ELECTRICEQUIPMENT: SÍ\n",
    "- AIRCONDITIONER: SÍ\n",
    "  - DATOS:\n",
    "              key \tHVACTemplate:Thermostat\n",
    "              Name \tthermostat 1\n",
    "              Heating_Setpoint_Schedule_Name \tAlways On Continuous\n",
    "              Constant_Heating_Setpoint \t15\n",
    "              Cooling_Setpoint_Schedule_Name \t\n",
    "              Constant_Cooling_Setpoint \t25"
   ]
  },
  {
   "cell_type": "code",
   "execution_count": 11,
   "metadata": {},
   "outputs": [],
   "source": [
    "idffile = 'studies/TemperatureStudy5/idffile.idf'\n",
    "iddfile = '/usr/local/EnergyPlus-9-4-0/Energy+.idd'\n",
    "epwfile = '/home/paula/Documentos/Doctorado/Desarrollo/eppyProject/input/Wheather file/FRA_Paris.Orly.071490_IWEC.epw'\n",
    "idf5 = initialization(idffile,iddfile,epwfile)\n",
    "data5 = eso_to_ts('studies/TemperatureStudy5/eplusout.csv')"
   ]
  },
  {
   "cell_type": "code",
   "execution_count": 12,
   "metadata": {},
   "outputs": [
    {
     "data": {
      "application/vnd.jupyter.widget-view+json": {
       "model_id": "cf057ea275c143099fedcc8200d7e12a",
       "version_major": 2,
       "version_minor": 0
      },
      "text/plain": [
       "interactive(children=(Dropdown(description='classes', options=('VERSION', 'SIMULATIONCONTROL', 'BUILDING', 'TI…"
      ]
     },
     "metadata": {},
     "output_type": "display_data"
    }
   ],
   "source": [
    "@interact\n",
    "def show_not_null_classes(classes = notnullobj(idf5)):\n",
    "    return epobject_to_df(idf5.idfobjects[classes])"
   ]
  },
  {
   "cell_type": "markdown",
   "metadata": {},
   "source": [
    "--------------------------"
   ]
  },
  {
   "cell_type": "markdown",
   "metadata": {},
   "source": [
    "_TemperatureStudy6__:\n",
    "\n",
    "- PEOPLE: SÍ\n",
    "- LIGHTS: SÍ\n",
    "- ELECTRICEQUIPMENT: SÍ\n",
    "- AIRCONDITIONER: SÍ (Scheduled with thermostat by temperature and Occupancy schedule)"
   ]
  },
  {
   "cell_type": "code",
   "execution_count": 13,
   "metadata": {},
   "outputs": [],
   "source": [
    "idffile = 'studies/TemperatureStudy6/idffile.idf'\n",
    "iddfile = '/usr/local/EnergyPlus-9-4-0/Energy+.idd'\n",
    "epwfile = '/home/paula/Documentos/Doctorado/Desarrollo/eppyProject/input/Wheather file/FRA_Paris.Orly.071490_IWEC.epw'\n",
    "idf6 = initialization(idffile,iddfile,epwfile)\n",
    "data6 = eso_to_ts('studies/TemperatureStudy6/eplusout.csv')"
   ]
  },
  {
   "cell_type": "markdown",
   "metadata": {},
   "source": [
    "#### Schedules"
   ]
  },
  {
   "cell_type": "markdown",
   "metadata": {},
   "source": [
    "__HVACTEMPLATE:THERMOSTATE__\n",
    "\n",
    "Heating_Setpoint_Schedule_Name: Small Office HtgSetp\n",
    "\n",
    "Cooling_Setpoint_Schedule_Name \tSmall Office ClgSetp\n",
    "\n",
    "\n",
    "__HVACTEMPLATE:SYSTEM:UNITARYSYSTEM__\n",
    "\n",
    "System_Availability_Schedule_Name: Office Work Occ    "
   ]
  },
  {
   "cell_type": "code",
   "execution_count": 14,
   "metadata": {},
   "outputs": [],
   "source": [
    "#get_schedule_instance(idf6,'Small Office HtgSetp')\n",
    "#get_schedule_instance(idf6,'Office Work Occ')\n",
    "#schedules = schedule_to_ts(idf6,['Small Office HtgSetp','Small Office HtgSetp']) # me está dado todos los schwedules como resultado...auqnque no está mal..."
   ]
  },
  {
   "cell_type": "code",
   "execution_count": 16,
   "metadata": {},
   "outputs": [],
   "source": [
    "schedules = eso_to_ts('studies/eplusout_schedules.csv')"
   ]
  },
  {
   "cell_type": "code",
   "execution_count": 17,
   "metadata": {
    "scrolled": true
   },
   "outputs": [
    {
     "data": {
      "text/plain": [
       "Index(['LARGE OFFICE ACTIVITY:Schedule Value [](Hourly)',\n",
       "       'LARGE OFFICE BLDG EQUIP:Schedule Value [](Hourly)',\n",
       "       'LARGE OFFICE BLDG LIGHT:Schedule Value [](Hourly)',\n",
       "       'LARGE OFFICE BLDG OCC:Schedule Value [](Hourly)',\n",
       "       'LARGE OFFICE CLGSETP:Schedule Value [](Hourly)',\n",
       "       'LARGE OFFICE HTGSETP:Schedule Value [](Hourly)',\n",
       "       'LARGE OFFICE INFIL QUARTER ON:Schedule Value [](Hourly)',\n",
       "       'MEDIUM OFFICE ACTIVITY:Schedule Value [](Hourly)',\n",
       "       'MEDIUM OFFICE BLDG EQUIP:Schedule Value [](Hourly)',\n",
       "       'MEDIUM OFFICE BLDG OCC:Schedule Value [](Hourly)',\n",
       "       'MEDIUM OFFICE CLGSETP:Schedule Value [](Hourly)',\n",
       "       'MEDIUM OFFICE HTGSETP:Schedule Value [](Hourly)',\n",
       "       'MEDIUM OFFICE INFIL QUARTER ON:Schedule Value [](Hourly)',\n",
       "       'OFFICE ACTIVITY:Schedule Value [](Hourly)',\n",
       "       'OFFICE BLDG EQUIP:Schedule Value [](Hourly)',\n",
       "       'OFFICE BLDG LIGHT:Schedule Value [](Hourly)',\n",
       "       'OFFICE INFIL QUARTER ON:Schedule Value [](Hourly)',\n",
       "       'OFFICE MISC OCC:Schedule Value [](Hourly)',\n",
       "       'OFFICE WORK OCC:Schedule Value [](Hourly)',\n",
       "       'SMALL OFFICE ACTIVITY:Schedule Value [](Hourly)',\n",
       "       'SMALL OFFICE BLDG EQUIP:Schedule Value [](Hourly)',\n",
       "       'SMALL OFFICE BLDG OCC:Schedule Value [](Hourly)',\n",
       "       'SMALL OFFICE CLGSETP:Schedule Value [](Hourly)',\n",
       "       'SMALL OFFICE HTGSETP:Schedule Value [](Hourly)',\n",
       "       'SMALL OFFICE INFIL QUARTER ON:Schedule Value [](Hourly)',\n",
       "       'HVACTEMPLATE-ALWAYS 4:Schedule Value [](Hourly)',\n",
       "       'HVACTEMPLATE-ALWAYS 0:Schedule Value [](Hourly)',\n",
       "       'ALWAYS ON DISCRETE:Schedule Value [](Hourly)',\n",
       "       'ALWAYS OFF DISCRETE:Schedule Value [](Hourly)',\n",
       "       'ALWAYS ON CONTINUOUS:Schedule Value [](Hourly) '],\n",
       "      dtype='object')"
      ]
     },
     "execution_count": 17,
     "metadata": {},
     "output_type": "execute_result"
    }
   ],
   "source": [
    "schedules.columns"
   ]
  },
  {
   "cell_type": "code",
   "execution_count": null,
   "metadata": {},
   "outputs": [],
   "source": [
    "schedules['SMALL OFFICE CLGSETP:Schedule Value [](Hourly)'][winterperiod[0]:winterperiod[1]].plot()\n",
    "schedules['SMALL OFFICE HTGSETP:Schedule Value [](Hourly)'][winterperiod[0]:winterperiod[1]].plot()"
   ]
  },
  {
   "cell_type": "code",
   "execution_count": null,
   "metadata": {},
   "outputs": [],
   "source": [
    "schedules['OFFICE WORK OCC:Schedule Value [](Hourly)'][winterperiod[0]:winterperiod[1]].plot()"
   ]
  },
  {
   "cell_type": "code",
   "execution_count": null,
   "metadata": {
    "scrolled": true
   },
   "outputs": [],
   "source": [
    "@interact\n",
    "def show_not_null_classes(classes = notnullobj(idf6)):\n",
    "    return epobject_to_df(idf6.idfobjects[classes])"
   ]
  },
  {
   "cell_type": "code",
   "execution_count": null,
   "metadata": {
    "scrolled": false
   },
   "outputs": [],
   "source": [
    "data6[winterperiod[0]:winterperiod[1]].iloc[:,2].plot(title = 'Schedule')"
   ]
  },
  {
   "cell_type": "markdown",
   "metadata": {},
   "source": [
    "------------------------------------"
   ]
  },
  {
   "cell_type": "code",
   "execution_count": null,
   "metadata": {},
   "outputs": [],
   "source": [
    "idffile = 'studies/TemperatureStudy6/idffile.idf'\n",
    "iddfile = '/usr/local/EnergyPlus-9-4-0/Energy+.idd'\n",
    "epwfile = '/home/paula/Documentos/Doctorado/Desarrollo/eppyProject/input/Wheather file/FRA_Paris.Orly.071490_IWEC.epw'\n",
    "idf7 = initialization(idffile,iddfile,epwfile)\n",
    "data7 = eso_to_ts('studies/TemperatureStudy6/eplusout.csv')"
   ]
  },
  {
   "cell_type": "markdown",
   "metadata": {},
   "source": [
    "------------------------------"
   ]
  },
  {
   "cell_type": "code",
   "execution_count": null,
   "metadata": {},
   "outputs": [],
   "source": [
    "data_env = data1['Environment:Site Outdoor Air Drybulb Temperature [C](Hourly)']"
   ]
  },
  {
   "cell_type": "code",
   "execution_count": null,
   "metadata": {
    "scrolled": false
   },
   "outputs": [],
   "source": [
    "merge_transform_ts(p=winterperiod,\n",
    "                   data_list=[data1.iloc[:,1],data2.iloc[:,1],data3.iloc[:,1],data3_1.iloc[:,1]],\n",
    "                   env_data=data_env,titles=[title1,title2,title3,title3_1]\n",
    "                  ).plot(title = 'invierno',figsize = (12,5),grid =True)\n",
    "merge_transform_ts(p=winterperiod,\n",
    "                   data_list=[data3_1.iloc[:,1],data4.iloc[:,1],data5.iloc[:,1]],\n",
    "                   env_data=data_env,\n",
    "                   titles=[title3_1,title4,title5]\n",
    "                  ).plot(title = 'invierno',figsize = (12,5),grid =True)\n",
    "merge_transform_ts(p=winterperiod,\n",
    "                   data_list=[data1.iloc[:,1],data5.iloc[:,1],data6.iloc[:,1]],\n",
    "                   env_data=data_env,titles=[title1,title5,title6] \n",
    "                  ).plot(title = 'invierno',figsize = (12,5),grid =True)\n"
   ]
  },
  {
   "cell_type": "code",
   "execution_count": null,
   "metadata": {
    "scrolled": false
   },
   "outputs": [],
   "source": [
    "merge_transform_ts(p=summerperiod,\n",
    "                   data_list=[data1.iloc[:,1],data2.iloc[:,1],data3.iloc[:,1],data3_1.iloc[:,1]],\n",
    "                   env_data=data_env,titles=[title1,title2,title3,title3_1]\n",
    "                  ).plot(title = 'verano',figsize = (12,5),grid =True)\n",
    "merge_transform_ts(p=summerperiod,\n",
    "                   data_list=[data3_1.iloc[:,1],data4.iloc[:,1],data5.iloc[:,1]],\n",
    "                   env_data=data_env,\n",
    "                   titles=[title3_1,title4,title5]\n",
    "                  ).plot(title = 'verano',figsize = (12,5),grid =True)\n",
    "merge_transform_ts(p=summerperiod,\n",
    "                   data_list=[data1.iloc[:,1],data5.iloc[:,1],data6.iloc[:,1]],\n",
    "                   env_data=data_env,titles=[title1,title5,title6] \n",
    "                  ).plot(title = 'verano',figsize = (12,5),grid =True)\n"
   ]
  },
  {
   "cell_type": "markdown",
   "metadata": {},
   "source": [
    "#### Comparativa de las distintas variables de temperatura interior disponibles usando el estudio 6"
   ]
  },
  {
   "cell_type": "code",
   "execution_count": null,
   "metadata": {},
   "outputs": [],
   "source": [
    "p = winterperiod\n",
    "datavp = datav[p[0]:p[1]]"
   ]
  },
  {
   "cell_type": "code",
   "execution_count": null,
   "metadata": {},
   "outputs": [],
   "source": [
    "datavp.plot(figsize = (12,5),grid =True)"
   ]
  },
  {
   "cell_type": "code",
   "execution_count": null,
   "metadata": {},
   "outputs": [],
   "source": [
    "#solo es distinta Zone Operative Temperature"
   ]
  },
  {
   "cell_type": "code",
   "execution_count": null,
   "metadata": {},
   "outputs": [],
   "source": []
  }
 ],
 "metadata": {
  "kernelspec": {
   "display_name": "_ep_",
   "language": "python",
   "name": "_ep_"
  },
  "language_info": {
   "codemirror_mode": {
    "name": "ipython",
    "version": 3
   },
   "file_extension": ".py",
   "mimetype": "text/x-python",
   "name": "python",
   "nbconvert_exporter": "python",
   "pygments_lexer": "ipython3",
   "version": "3.6.11"
  }
 },
 "nbformat": 4,
 "nbformat_minor": 4
}
